{
 "cells": [
  {
   "cell_type": "markdown",
   "metadata": {},
   "source": [
    "# Алгоритмы интеллектуальной обработки больших объемов данных\n",
    "## Домашнее задание №2: Линейные модели\n"
   ]
  },
  {
   "cell_type": "markdown",
   "metadata": {},
   "source": [
    "###### <hr\\>\n",
    "**Общая информация**\n",
    "\n",
    "**Срок сдачи:** 09 ноября 18:00 Сдача **очная** на онлайн занятии. <br\\>\n",
    "\n",
    "\n",
    "Используйте данный Ipython Notebook при оформлении домашнего задания.\n",
    "\n",
    "Присылать ДЗ необходимо в виде ссылки на свой github репозиторий на почту ml1.sphere@mail.ru с указанием темы в следующем формате:\n",
    "\n",
    "[ML0920, Задание 2] Фамилия Имя.\n",
    "\n",
    "\n",
    "\n",
    "**Штрафные баллы:**\n",
    "\n",
    "1. Невыполнение PEP8 -1 балл\n",
    "2. Отсутствие фамилии в имени скрипта (скрипт должен называться по аналогии со stroykova_hw2.ipynb) -1 балл\n",
    "3. Все строчки должны быть выполнены. Нужно, чтобы output команды можно было увидеть уже в git'е. В противном случае -1 балл\n",
    "4. При оформлении ДЗ нужно пользоваться данным файлом в качестве шаблона. Не нужно удалять и видоизменять написанный код и текст, если явно не указана такая возможность. В противном случае -1 балл\n",
    "<hr\\>"
   ]
  },
  {
   "cell_type": "code",
   "execution_count": 87,
   "metadata": {},
   "outputs": [],
   "source": [
    "import pandas as pd\n",
    "import numpy as np\n",
    "import matplotlib.pyplot as plt\n",
    "\n",
    "%matplotlib inline\n",
    "\n",
    "plt.style.use('ggplot')\n",
    "plt.rcParams['figure.figsize'] = (12,5)"
   ]
  },
  {
   "cell_type": "markdown",
   "metadata": {},
   "source": [
    "Здравствуйте, уважаемые студенты! \n",
    "\n",
    "В этом задании мы будем реализовать линейные модели. Необходимо реализовать линейную и логистическую регрессии с L2 регуляризацией"
   ]
  },
  {
   "cell_type": "markdown",
   "metadata": {},
   "source": [
    "# Теоретическое введение\n",
    "\n"
   ]
  },
  {
   "cell_type": "markdown",
   "metadata": {},
   "source": [
    "Линейная регрессия решает задачу регрессии и оптимизирует функцию потерь MSE \n",
    "\n",
    "$$L(w) =  \\frac{1}{N}\\left[\\sum_i (y_i - a_i) ^ 2 \\right], $$ где $y_i$ $-$ целевая функция,  $a_i = a(x_i) =  \\langle\\,x_i,w\\rangle ,$ $-$ предсказание алгоритма на объекте $x_i$, $w$ $-$ вектор весов (размерности $D$), $x_i$ $-$ вектор признаков (такой же размерности $D$).\n",
    "\n",
    "Не забываем, что здесь и далее  мы считаем, что в $x_i$ есть тождественный вектор единиц, ему соответствует вес $w_0$.\n"
   ]
  },
  {
   "cell_type": "markdown",
   "metadata": {},
   "source": [
    "Логистическая регрессия является линейным классификатором, который оптимизирует так называемый функционал log loss:"
   ]
  },
  {
   "cell_type": "markdown",
   "metadata": {},
   "source": [
    "$$L(w) = - \\frac{1}{N}\\left[\\sum_i y_i \\log a_i + ( 1 - y_i) \\log (1 - a_i) \\right],$$\n",
    "где  $y_i  \\in \\{0,1\\}$ $-$ метка класса, $a_i$ $-$ предсказание алгоритма на объекте $x_i$. Модель пытается предсказать апостериорую вероятность объекта принадлежать к классу \"1\":\n",
    "$$ p(y_i = 1 | x_i) = a(x_i) =  \\sigma( \\langle\\,x_i,w\\rangle ),$$\n",
    "$w$ $-$ вектор весов (размерности $D$), $x_i$ $-$ вектор признаков (такой же размерности $D$).\n",
    "\n",
    "Функция $\\sigma(x)$ $-$ нелинейная функция, пероводящее скалярное произведение объекта на веса в число $\\in (0,1)$ (мы же моделируем вероятность все-таки!)\n",
    "\n",
    "$$\\sigma(x) = \\frac{1}{1 + \\exp(-x)}$$\n",
    "\n",
    "Если внимательно посмотреть на функцию потерь, то можно заметить, что в зависимости от правильного ответа алгоритм штрафуется или функцией $-\\log a_i$, или функцией $-\\log (1 - a_i)$.\n",
    "\n"
   ]
  },
  {
   "cell_type": "markdown",
   "metadata": {},
   "source": [
    "Часто для решения проблем, которые так или иначе связаны с проблемой переобучения, в функционал качества добавляют слагаемое, которое называют ***регуляризацией***. Итоговый функционал для линейной регрессии тогда принимает вид:\n",
    "\n",
    "$$L(w) =  \\frac{1}{N}\\left[\\sum_i (y_i - a_i) ^ 2 \\right] + \\frac{1}{C}R(w) $$\n",
    "\n",
    "Для логистической: \n",
    "$$L(w) = - \\frac{1}{N}\\left[\\sum_i y_i \\log a_i + ( 1 - y_i) \\log (1 - a_i) \\right] +  \\frac{1}{C}R(w)$$\n",
    "\n",
    "Самое понятие регуляризации введено основателем ВМК академиком Тихоновым https://ru.wikipedia.org/wiki/Метод_регуляризации_Тихонова\n",
    "\n",
    "Идейно методика регуляризации заключается в следующем $-$ мы рассматриваем некорректно поставленную задачу (что это такое можно найти в интернете), для того чтобы сузить набор различных вариантов (лучшие из которых будут являться переобучением ) мы вводим дополнительные ограничения на множество искомых решений. На лекции Вы уже рассмотрели два варианта регуляризации.\n",
    "\n",
    "$L1$ регуляризация:\n",
    "$$R(w) = \\sum_{j=1}^{D}|w_j|$$\n",
    "$L2$ регуляризация:\n",
    "$$R(w) =  \\sum_{j=1}^{D}w_j^2$$\n",
    "\n",
    "С их помощью мы ограничиваем модель в  возможности выбора каких угодно весов минимизирующих наш лосс, модель уже не сможет подстроиться под данные как ей угодно. \n",
    "\n",
    "Вам нужно добавить соотвествущую Вашему варианту $L2$ регуляризацию.\n",
    "\n",
    "И так, мы поняли, какую функцию ошибки будем минимизировать, разобрались, как получить предсказания по объекту и обученным весам. Осталось разобраться, как получить оптимальные веса. Для этого нужно выбрать какой-то метод оптимизации.\n",
    "\n"
   ]
  },
  {
   "cell_type": "markdown",
   "metadata": {},
   "source": [
    "Градиентный спуск является самым популярным алгоритмом обучения линейных моделей. В этом задании Вам предложат реализовать стохастический градиентный спуск или  мини-батч градиентный спуск (мини-батч на русский язык довольно сложно перевести, многие переводят это как \"пакетный\", но мне не кажется этот перевод удачным). Далее нам потребуется определение **эпохи**.\n",
    "Эпохой в SGD и MB-GD называется один проход по **всем** объектам в обучающей выборки.\n",
    "* В SGD градиент расчитывается по одному случайному объекту. Сам алгоритм выглядит примерно так:\n",
    "        1) Перемешать выборку\n",
    "        2) Посчитать градиент функции потерь на одном объекте (далее один объект тоже будем называть батчем)\n",
    "        3) Сделать шаг спуска\n",
    "        4) Повторять 2) и 3) пока не пройдет максимальное число эпох.\n",
    "* В Mini Batch SGD - по подвыборке объектов. Сам алгоритм выглядит примерно так::\n",
    "        1) Перемешать выборку, выбрать размер мини-батча (от 1 до размера выборки)\n",
    "        2) Почитать градиент функции потерь по мини-батчу (не забыть поделить на  число объектов в мини-батче)\n",
    "        3) Сделать шаг спуска\n",
    "        4) Повторять 2) и 3) пока не пройдет максимальное число эпох.\n",
    "* Для отладки алгоритма реализуйте возможность  вывода средней ошибки на обучении модели по объектам (мини-батчам). После шага градиентного спуска посчитайте значение ошибки на объекте (или мини-батче), а затем усредните, например, по ста шагам. Если обучение проходит корректно, то мы должны увидеть, что каждые 100 шагов функция потерь уменьшается. \n",
    "* Правило останова - максимальное количество эпох\n",
    "    \n"
   ]
  },
  {
   "cell_type": "markdown",
   "metadata": {},
   "source": [
    "# Теоретические вопросы (2 балла)\n",
    "В этой части Вам будут предложены теоретичские вопросы и задачи по теме. Вы, конечно, можете списать их у своего товарища или найти решение в интернете, но учтите, что они обязательно войдут в теоретический коллоквиум. Лучше разобраться в теме сейчас и успешно ответить на коллоквиуме, чем списать, не разобравшись в материале, и быть терзаемым совестью. \n",
    "\n",
    "\n",
    "Формулы надо оформлять в формате **LaTeX**."
   ]
  },
  {
   "cell_type": "markdown",
   "metadata": {},
   "source": [
    "Задача 1. Градиент для линейной регрессии.\n",
    "* Выпишите формулу обновления весов для линейной регрессии с L2 регуляризацией для мини-батч градиентого спуска размера $n$:\n",
    "\n",
    "$$ w_{new} = w_{old} - ... $$\n",
    "\n",
    " Отнеситесь к этому пункту максимально серьезно, это Вам нужно будет реализовать в задании.\n",
    " \n",
    "Проанализруйте итоговую формулу градиента - как  интуитивно можно  описать, чему равен градиент?"
   ]
  },
  {
   "cell_type": "markdown",
   "metadata": {},
   "source": [
    "***Ваше решение здесь***"
   ]
  },
  {
   "cell_type": "markdown",
   "metadata": {},
   "source": [
    "$$ w_{new} = w_{old} - \\alpha \\cdot \\nabla_{w}L(w)$$ \n",
    "$$\\nabla_{w}L(w) = 2 \\cdot ( \\frac{1}{n} \\cdot \\sum_{i = 1}^{n} ( \\langle x_{i}, w_{old} \\rangle - y_{i}) \\cdot x_{i} + \\frac{w_{old}}{C})$$ $\\alpha$ - длина шага оптимизации (может быть задана как невозрастающая функция $f(k)$, где $k$ - номер шага оптимизации)"
   ]
  },
  {
   "cell_type": "markdown",
   "metadata": {},
   "source": [
    "Задача 2. Градиент для логистической регрессии.\n",
    "* Выпишите формулу обновления весов для логистической регрессии с L2 регуляризацией  для мини-батч градиентого спуска размера $n$:\n",
    "\n",
    "$$ w_{new} = w_{old} - ... $$\n",
    "\n",
    " Отнеситесь к этому пункту максимально серьезно, это Вам нужно будет реализовать в задании.\n",
    " \n",
    "Проанализруйте итоговую формулу градиента - как  интуитивно можно  описать, чему равен градиент? Как соотносится этот градиент с градиентом, возникающий в задаче линейной регрессии?\n",
    "\n",
    "Подсказка: Вам градиент, которой получается если “в лоб” продифференцировать,  надо немного преобразовать.\n",
    "Надо подставить, что $1 - \\sigma(w,x) $ это  $1 - a(x_i)$, а  $-\\sigma(w,x)$ это $0 - a(x_i)$.  Тогда получится свести к одной красивой формуле с линейной регрессией, которую программировать будет намного проще."
   ]
  },
  {
   "cell_type": "markdown",
   "metadata": {},
   "source": [
    "***Ваше решение здесь***"
   ]
  },
  {
   "cell_type": "markdown",
   "metadata": {},
   "source": [
    "$$ w_{new} = w_{old} - \\alpha \\cdot \\nabla_{w}L(w)$$\n",
    "$$ \\nabla_{w}L(w) =\\frac{1}{n \\cdot ln2} \\cdot \\sum_{i = 1}^{n} \\frac{((1 - y_{i}) \\cdot e^{\\langle x_{i}, w_{old} \\rangle} - y_{i}) \\cdot x_{i}}{e^{\\langle x_{i}, w_{old} \\rangle} + 1} + \\frac{2 \\cdot w_{old}}{C}$$\n",
    "Не похоже на формулу линейной регрессии, однако, если преобразовать, то получим:\n",
    "$$ \\nabla_{w}L(w) = \\frac{1}{n \\cdot ln2} \\cdot \\sum_{i = 1}^{n} (\\frac{1}{1 + e^{- \\langle x_{i}, w_{old} \\rangle}} - y_{i}) \\cdot x_{i} + \\frac{2 \\cdot w_{old}}{C}$$\n",
    "Итого, общая формула для двух алгоритмов имеет вид:\n",
    "$$ w_{new} = w_{old} - \\alpha \\cdot (\\frac{1}{n} \\cdot \\sum_{i = 1}^{n} (a(x_{i}) - y_{i}) \\cdot x_{i} + \\frac{w_{old}}{C})$$ (константы убраны, так как не влияют на сходимость)"
   ]
  },
  {
   "cell_type": "markdown",
   "metadata": {},
   "source": [
    "Задача 3. Точное решение линейной регрессии\n",
    "\n",
    "На лекции было показано, что точное решение линейной регрессии имеет вид $w = (X^TX)^{-1}X^TY $. \n",
    "* Покажите, что это действительно является точкой минимума в случае, если матрица X имеет строк не меньше, чем столбцов и имеет полный ранг. Подсказка: посчитайте Гессиан и покажите, что в этом случае он положительно определен. \n",
    "* Выпишите точное решение для модели с $L2$ регуляризацией. Как L2 регуляризация помогает с точным решением где матрица X имеет линейно зависимые признаки?"
   ]
  },
  {
   "cell_type": "markdown",
   "metadata": {},
   "source": [
    "***Ваше решение здесь***"
   ]
  },
  {
   "cell_type": "markdown",
   "metadata": {},
   "source": [
    "Гессиан: \n",
    "$$ H(f(w)) =\n",
    " \\begin{pmatrix}\n",
    "  \\frac{\\partial^{2} f}{\\partial w_{0}^{2}} & \\frac{\\partial^{2} f}{\\partial w_{0} \\partial w_{1}} & \\cdots & \\frac{\\partial^{2} f}{\\partial w_{0} \\partial w_{D}} \\\\\n",
    "  \\frac{\\partial^{2} f}{\\partial w_{1} \\partial w_{0}} & \\frac{\\partial^{2} f}{\\partial w_{0}^{1}} & \\cdots & \\frac{\\partial^{2} f}{\\partial w_{1} \\partial w_{D}} \\\\\n",
    "  \\vdots  & \\vdots  &  \\frac{\\partial^{2} f}{\\partial w_{i} \\partial w_{j}} & \\vdots  \\\\\n",
    "  \\frac{\\partial^{2} f}{\\partial w_{D} \\partial w_{0}} & \\frac{\\partial^{2} f}{\\partial w_{D} \\partial w_{1}} & \\cdots & \\frac{\\partial^{2} f}{\\partial w_{D}^{2}} \n",
    " \\end{pmatrix}$$\n",
    " В нашем случае $f(w) = \\frac{1}{n} * (w^{T} *  X^{T} * X * w - w^{T} * X^{T} * y - y^{T} * X * w + y^{T} * y)$\n",
    " \n",
    " Далее деление на $n$ можно опустить, так как мы ищем минимум функции, а умножение на константу на это не влияет\n",
    " \n",
    " Тогда:\n",
    " $$ H(f(w)) = \\frac{2}{n} \\cdot \n",
    " \\begin{pmatrix}\n",
    "  x_{0}^{T}x_{0} & x_{0}^{T}x_{1} & \\cdots & x_{0}^{T}x_{D} \\\\\n",
    "  x_{1}^{T}x_{0} & x_{1}^{T}x_{1} & \\cdots & x_{1}^{T}x_{D} \\\\\n",
    "  \\vdots  & \\vdots  & x_{i}^{T}x_{j} & \\vdots  \\\\\n",
    "  x_{D}^{T}x_{0} & x_{D}^{T}x_{1} & \\cdots & x_{D}^{T}x_{D}\n",
    " \\end{pmatrix}$$\n",
    " \n",
    "Получается, что $ H(f(w)) = \\frac{2}{n} \\cdot  X^{T} \\cdot X \\implies \\exists A = \\sqrt{2} X: A^{T} \\cdot A = H(f(w))$. При этом X невырождена, так как имеет строк не меньше, чем столбцов и полный ранг. Значит, $H(f(w))$ положительно определена. \n",
    " \n",
    "Для L2 регуляризации: \n",
    "$$f(w) = \\frac{1}{n} \\cdot (w^{T} \\cdot X^{T} \\cdot X \\cdot w - w^{T} \\cdot X^{T} \\cdot y - y^{T} \\cdot X \\cdot w + y^{T} \\cdot y) + \\frac{1}{C} \\cdot w^{T} \\cdot w$$\n",
    "$$ \\nabla_{w}f(w) = 2 \\cdot X^{T} \\cdot X \\cdot w - 2 \\cdot X^{T} \\cdot y + \\frac{2}{C} \\cdot I \\cdot w $$\n",
    "$$ \\nabla_{w} f(w) = 0 \\iff w = (X^{T} \\cdot X + \\frac{I}{C})^{-1} \\cdot X^{T} \\cdot y $$"
   ]
  },
  {
   "cell_type": "markdown",
   "metadata": {},
   "source": [
    "Задача 4.  Предсказываем вероятности.\n",
    "\n",
    "Когда говорят о логистической регрессии, произносят фразу, что она \"предсказывает вероятности положительного класса\". Давайте разберемся, что же за этим стоит. Посчитаем математическое ожидание функции потерь и проверим, что предсказание алгоритма, оптимизирующее это мат. ожидание, будет являться вероятностью положительного класса. \n",
    "\n",
    "И так, функция потерь на объекте $x_i$, который имеет метку $y_i \\in \\{0,1\\}$  для предсказания $a(x_i)$ равна:\n",
    "$$L(y_i, b) =-[y_i == 1] \\log a(x_i)  - [y_i == 0] \\log(1 - a(x_i)) $$\n",
    "\n",
    "Где $[]$ означает индикатор $-$ он равен единице, если значение внутри него истинно, иначе он равен нулю. Тогда мат. ожидание при условии конкретного $x_i$  по определение мат. ожидания дискретной случайной величины:\n",
    "$$E(L | x_i) = -p(y_i = 1 |x_i ) \\log a(x_i)  - p(y_i = 0 | x_i) \\log( 1 - a(x_i))$$\n",
    "* Докажите, что значение $a(x_i)$, минимизирующее данное мат. ожидание, в точности равно $p(y_i = 1 |x_i)$, то есть равно вероятности положительного класса.\n",
    "\n",
    "Подсказка: возможно, придется воспользоваться, что  $p(y_i = 1 | x_i) + p(y_i = 0 | x_i) = 1$"
   ]
  },
  {
   "cell_type": "markdown",
   "metadata": {},
   "source": [
    "***Ваше решение здесь***"
   ]
  },
  {
   "cell_type": "markdown",
   "metadata": {},
   "source": [
    "$$\\frac{dE(L | x_i)}{da(x_i)} = \\frac{1}{\\ln2} \\cdot (\\frac{-p(y_i = 1 | x_i)}{a(x_i)} + \\frac{p(y_i = 0 | x_i)}{1 - a(x_i)\n",
    "})$$\n",
    "\n",
    "Воспользуемся тем, что $p(y_i = 1 | x_i) + p(y_i = 0 | x_i) = 1$\n",
    "\n",
    "$$\\frac{dE(L|x_i)}{da(x_i)} = \\frac{a(x_i) - p(y_i = 1 |x_i)}{\\ln 2 \\cdot a(x_i) \\cdot (1 - a(x_i))}$$\n",
    "\n",
    "$$ \\frac{dE(L|x_i)}{da(x_i)} = 0 \\iff \\begin{cases} a(x_i) \\neq 0\\\\ a(x_i) \\neq 1\\\\ a(x_i) = p(y_i = 1 |x_i) \\end{cases} $$\n",
    "\n",
    "Очевидно, $a(x_i) = p(y_i = 1 | x_i)$ - точка минимума мат. ожидания."
   ]
  },
  {
   "cell_type": "markdown",
   "metadata": {},
   "source": [
    "Задача 5.  Смысл регуляризации.\n",
    "\n",
    "Нужно ли в L1/L2 регуляризации использовать свободный член $w_0$ (который не умножается ни на какой признак)?\n",
    "\n",
    "Подсказка: подумайте, для чего мы вводим $w_0$"
   ]
  },
  {
   "cell_type": "markdown",
   "metadata": {},
   "source": [
    "***Ваше решение здесь***"
   ]
  },
  {
   "cell_type": "markdown",
   "metadata": {},
   "source": [
    "Мы вводим $w_{0}$, чтобы задать значение предсказания в случае, когда все признаки равны нулю или близки к нему. Такой объект не обязательно имеет целевую переменную 0 (в случае линейной регрессии) или имеет равную вероятность принадлежности обоим классам (в случае логистической регрессии). Также $w_0$ отвечает за удаление гиперплоскости от начала координат и если регуляризовывать все веса, кроме $w_{0}$, то он получится в разы больше остальных и, скорее всего, разделяющая гиперплоскость будет неадекватной. Да, нужно."
   ]
  },
  {
   "cell_type": "markdown",
   "metadata": {},
   "source": [
    "#  Реализация линейной модели (4 балла)"
   ]
  },
  {
   "cell_type": "markdown",
   "metadata": {},
   "source": [
    "## Зачем нужны батчи?\n"
   ]
  },
  {
   "cell_type": "markdown",
   "metadata": {},
   "source": [
    "Как Вы могли заметить из теоретического введения, что в случае SGD, что в случа mini-batch GD,  на каждой итерации обновление весов  происходит только по небольшой части данных (1 пример в случае SGD, batch примеров в случае mini-batch). То есть для каждой итерации нам *** не нужна вся выборка***. Мы можем просто итерироваться по выборке, беря батч нужного размера (далее 1 объект тоже будем называть батчом).\n",
    "\n",
    "Легко заметить, что в этом случае нам не нужно загружать все данные в оперативную память, достаточно просто считать батч с диска, обновить веса, считать диска другой батч и так далее. В целях упрощения домашней работы, прямо с диска  мы считывать не будем, будем работать с обычными numpy array. \n",
    "\n",
    "\n",
    "\n"
   ]
  },
  {
   "cell_type": "markdown",
   "metadata": {},
   "source": [
    "## Немножко про генераторы в Python\n",
    "\n"
   ]
  },
  {
   "cell_type": "markdown",
   "metadata": {},
   "source": [
    "Идея считывания данных кусками удачно ложится на так называемые ***генераторы*** из языка Python. В данной работе Вам предлагается не только разобраться с логистической регрессией, но  и познакомиться с таким важным элементом языка.  При желании Вы можете убрать весь код, связанный с генераторами, и реализовать логистическую регрессию и без них, ***штрафоваться это никак не будет***. Главное, чтобы сама модель была реализована правильно, и все пункты были выполнены. \n",
    "\n",
    "Подробнее можно почитать вот тут https://anandology.com/python-practice-book/iterators.html\n"
   ]
  },
  {
   "cell_type": "markdown",
   "metadata": {},
   "source": [
    "К генератору стоит относиться просто как к функции, которая порождает не один объект, а целую последовательность объектов. Новое значение из последовательности генерируется с помощью ключевого слова ***yield***. Ниже Вы можете насладиться  генератором чисел Фибоначчи."
   ]
  },
  {
   "cell_type": "code",
   "execution_count": 2,
   "metadata": {},
   "outputs": [],
   "source": [
    "def fib(max_iter=4):\n",
    "    a, b = 0, 1\n",
    "    iter_num = 0\n",
    "    while 1:\n",
    "        yield a\n",
    "        a, b = b, a + b\n",
    "        iter_num += 1\n",
    "        if iter_num == max_iter:\n",
    "            break"
   ]
  },
  {
   "cell_type": "markdown",
   "metadata": {},
   "source": [
    "Вот так можно сгенерировать последовательность Фибоначчи. \n",
    "\n",
    "Заметьте, что к генераторам можно применять некоторые стандартные функции из Python, например enumerate."
   ]
  },
  {
   "cell_type": "code",
   "execution_count": 3,
   "metadata": {},
   "outputs": [
    {
     "name": "stdout",
     "output_type": "stream",
     "text": [
      "Fib num: 0 fib values: 0\n",
      "Fib num: 1 fib values: 1\n",
      "Fib num: 2 fib values: 1\n",
      "Fib num: 3 fib values: 2\n"
     ]
    }
   ],
   "source": [
    "new_generator = fib()\n",
    "for j, fib_val in enumerate(new_generator):\n",
    "    print (\"Fib num: \" + str(j) + \" fib values: \" + str(fib_val))"
   ]
  },
  {
   "cell_type": "markdown",
   "metadata": {},
   "source": [
    "Пересоздавая объект, можно сколько угодно раз генерировать заново последовательность. "
   ]
  },
  {
   "cell_type": "code",
   "execution_count": 4,
   "metadata": {},
   "outputs": [
    {
     "name": "stdout",
     "output_type": "stream",
     "text": [
      "Fib num: 0 fib values: 0\n",
      "Fib num: 1 fib values: 1\n",
      "Fib num: 2 fib values: 1\n",
      "Fib num: 3 fib values: 2\n",
      "Fib num: 0 fib values: 0\n",
      "Fib num: 1 fib values: 1\n",
      "Fib num: 2 fib values: 1\n",
      "Fib num: 3 fib values: 2\n",
      "Fib num: 0 fib values: 0\n",
      "Fib num: 1 fib values: 1\n",
      "Fib num: 2 fib values: 1\n",
      "Fib num: 3 fib values: 2\n"
     ]
    }
   ],
   "source": [
    "for i in range(0, 3):\n",
    "    new_generator = fib()\n",
    "    for j, fib_val in enumerate(new_generator):\n",
    "        print (\"Fib num: \" + str(j) + \" fib values: \" + str(fib_val))"
   ]
  },
  {
   "cell_type": "markdown",
   "metadata": {},
   "source": [
    "А вот так уже нельзя."
   ]
  },
  {
   "cell_type": "code",
   "execution_count": 5,
   "metadata": {},
   "outputs": [
    {
     "name": "stdout",
     "output_type": "stream",
     "text": [
      "Fib num: 0 fib values: 0\n",
      "Fib num: 1 fib values: 1\n",
      "Fib num: 2 fib values: 1\n",
      "Fib num: 3 fib values: 2\n"
     ]
    }
   ],
   "source": [
    "new_generator = fib()\n",
    "for i in range(0, 3):\n",
    "    for j, fib_val in enumerate(new_generator):\n",
    "        print (\"Fib num: \" + str(j) + \" fib values: \" + str(fib_val))"
   ]
  },
  {
   "cell_type": "markdown",
   "metadata": {},
   "source": [
    "Концепция крайне удобная для обучения  моделей $-$ у Вас есть некий источник данных, который Вам выдает их кусками, и Вам совершенно все равно откуда он их берет. Под ним может скрывать как массив в оперативной памяти, как файл на жестком диске, так и SQL база данных. Вы сами данные никуда не сохраняете, оперативную память экономите."
   ]
  },
  {
   "cell_type": "markdown",
   "metadata": {},
   "source": [
    "Если Вам понравилась идея с генераторами, то Вы можете реализовать свой, используя прототип batch_generator. В нем Вам нужно выдавать батчи признаков и ответов для каждой новой итерации спуска. Если не понравилась идея, то можете реализовывать SGD или mini-batch GD без генераторов."
   ]
  },
  {
   "cell_type": "code",
   "execution_count": 146,
   "metadata": {},
   "outputs": [],
   "source": [
    "def batch_generator(X, y, shuffle=True, batch_size=1):\n",
    "    \"\"\"\n",
    "    Гератор новых батчей для обучения\n",
    "    X          - матрица объекты-признаки\n",
    "    y_batch    - вектор ответов\n",
    "    shuffle    - нужно ли случайно перемешивать выборку\n",
    "    batch_size - размер батча ( 1 это SGD, > 1 mini-batch GD)\n",
    "    Генерирует подвыборку для итерации спуска (X_batch, y_batch)\n",
    "    \"\"\"\n",
    "    \n",
    "    X = np.array(X)\n",
    "    y = np.array(y)\n",
    "    \n",
    "    if shuffle == True:\n",
    "        ind = np.array(range(y.size))\n",
    "        \n",
    "        while ind.size > batch_size:\n",
    "            # случайная выборка уникальных значений из заданного одномерного массива\n",
    "            batch_ind = np.random.choice(np.arange(ind.size), \n",
    "                                        size=batch_size,\n",
    "                                        replace=False)\n",
    "            batch = ind[batch_ind]\n",
    "            ind = np.delete(ind, batch_ind)\n",
    "            yield(X[batch], y[batch])\n",
    "            \n",
    "        yield(X[ind], y[ind])\n",
    "    \n",
    "    else:\n",
    "        begin_ind = 0\n",
    "        end_ind = batch.size\n",
    "        \n",
    "        while end_ind < y.size:\n",
    "            yield(X[begin_ind:end_ind], y[begin_ind:end_ind])\n",
    "            begin_ind += batch_size\n",
    "            end_ind += batch_size\n",
    "        \n",
    "        yield(X[begin_ind::], y[begin_ind::])\n",
    "        "
   ]
  },
  {
   "cell_type": "code",
   "execution_count": 157,
   "metadata": {},
   "outputs": [],
   "source": [
    "from sklearn.base import BaseEstimator, ClassifierMixin\n",
    "from math import exp, log, log2\n",
    "\n",
    "def sigmoid(x):\n",
    "    \"\"\"\n",
    "    Вычисляем значение сигмоида.\n",
    "    X - выход линейной модели\n",
    "    \"\"\"\n",
    "    try:\n",
    "        sigm_value_x = 1 / (1 + exp(-x))\n",
    "        return sigm_value_x\n",
    "    except OverflowError:\n",
    "        return 0\n",
    "    \n",
    "\n",
    "def my_log2(x):\n",
    "    if np.allclose(x, 0.0):\n",
    "        return -1.0e+70\n",
    "    \n",
    "    return log2(x)\n",
    "\n",
    "\n",
    "class MySGDClassifier(BaseEstimator, ClassifierMixin):\n",
    "    \n",
    "    def __init__(self, batch_generator, C=1, alpha=0.01, \n",
    "                 max_epoch=10, model_type='lin_reg', \n",
    "                 batch_size=1, border=0.5):\n",
    "        \"\"\"\n",
    "        batch_generator -- функция генератор, которой будем создавать батчи\n",
    "        C - коэф. регуляризации\n",
    "        alpha - скорость спуска\n",
    "        max_epoch - максимальное количество эпох\n",
    "        model_type - тим модели, lin_reg или log_reg\n",
    "        \"\"\"\n",
    "        \n",
    "        self.C = C\n",
    "        self.alpha = alpha\n",
    "        self.max_epoch = max_epoch\n",
    "        self.batch_generator = batch_generator\n",
    "        self.errors_log = {'iter' : [], 'loss' : []}  \n",
    "        self.model_type = model_type\n",
    "        self.batch_size = batch_size\n",
    "        self.border = border\n",
    "        \n",
    "        \n",
    "    def calc_loss(self, X_batch, y_batch):\n",
    "        \"\"\"\n",
    "        Считаем функцию потерь по батчу \n",
    "        X_batch - матрица объекты-признаки по батчу\n",
    "        y_batch - вектор ответов по батчу\n",
    "        Не забудьте тип модели (линейная или логистическая регрессия)!\n",
    "        \"\"\"\n",
    "        \n",
    "        X = np.array(X_batch)\n",
    "        add_clm = np.array([1] * (X.shape[0]))\n",
    "        add_clm = add_clm.reshape(-1, 1)\n",
    "        X = np.hstack((add_clm, X))\n",
    "        \n",
    "        y = np.array(y_batch)\n",
    "        \n",
    "        w = np.array(self.weights)\n",
    "        \n",
    "        loss = X * w\n",
    "        loss = loss.sum(axis=1)\n",
    "        loss = loss.reshape(1, -1)\n",
    "        loss = loss.ravel()\n",
    "        \n",
    "        if self.model_type == 'lin_reg':\n",
    "            loss = loss - y\n",
    "            loss = loss ** 2\n",
    "            loss = loss.sum()\n",
    "            \n",
    "        elif self.model_type == 'log_reg':\n",
    "            loss = np.array(list(map(sigmoid, loss)))\n",
    "            \n",
    "            loss_one = loss[np.where(y == 1)]\n",
    "            loss_one = np.array(list(map(my_log2, loss_one)))\n",
    "            loss_one_sum = np.sum(loss_one)\n",
    "            \n",
    "            loss_zero = loss[np.where(y == 0)]\n",
    "            loss_zero = -loss_zero + 1\n",
    "            loss_zero = np.array(list(map(my_log2, loss_zero)))\n",
    "            loss_zero_sum = loss_zero.sum()\n",
    "            \n",
    "            loss = loss_zero_sum + loss_one_sum\n",
    "            loss = -loss\n",
    "            \n",
    "        loss /= y.size\n",
    "        \n",
    "        reg = w ** 2\n",
    "        reg = reg.sum()\n",
    "        reg /= self.C\n",
    "        \n",
    "        loss += reg\n",
    "        \n",
    "        return loss\n",
    "    \n",
    "    \n",
    "    def calc_loss_grad(self, X_batch, y_batch):\n",
    "        \"\"\"\n",
    "        Считаем  градиент функции потерь по батчу (то что Вы вывели в задании 1)\n",
    "        X_batch - матрица объекты-признаки по батчу\n",
    "        y_batch - вектор ответов по батчу\n",
    "        Не забудте тип модели (линейная или логистическая регрессия)!\n",
    "        \"\"\"\n",
    "        \n",
    "        X = np.array(X_batch)\n",
    "        add_clm = np.array([1] * (X.shape[0]))\n",
    "        add_clm = add_clm.reshape(-1, 1)\n",
    "        X = np.hstack((add_clm, X))\n",
    "        \n",
    "        y = np.array(y_batch).reshape(1, -1)\n",
    "        w = np.array(self.weights).reshape(1, -1)\n",
    "        \n",
    "        a = X * w\n",
    "        a = a.sum(axis=1)\n",
    "        a = a.ravel()\n",
    "        \n",
    "        if self.model_type == 'log_reg':\n",
    "            a = np.array(list(map(sigmoid, a)))\n",
    "            \n",
    "        a = a - y\n",
    "        a = a.reshape(-1, 1)\n",
    "        \n",
    "        loss_grad = X * a\n",
    "        loss_grad = loss_grad.mean(axis=0)\n",
    "        reg = w / self.C\n",
    "        \n",
    "        if self.model_type == 'log_reg':\n",
    "            loss_grad = loss_grad / log(2)\n",
    "            reg = reg * 2\n",
    "            \n",
    "        loss_grad = loss_grad + reg\n",
    "        return loss_grad\n",
    "    \n",
    "    \n",
    "    def update_weights(self, new_grad):\n",
    "        \"\"\"\n",
    "        Обновляем вектор весов\n",
    "        new_grad - градиент по батчу\n",
    "        \"\"\"\n",
    "        \n",
    "        self.weights = self.weights - (new_grad * self.alpha)\n",
    "        \n",
    "    \n",
    "    def fit(self, X, y):\n",
    "        '''\n",
    "        Обучение модели\n",
    "        X - матрица объекты-признаки\n",
    "        y - вектор ответов\n",
    "        '''\n",
    "        \n",
    "        # Нужно инициализровать случайно веса\n",
    "        X = np.array(X)\n",
    "        y = np.array(y)\n",
    "        np.random.seed(0)\n",
    "        self.weights = np.random.randint(1, 100, size=(X.shape[1] + 1))\n",
    "        self.weights = self.weights.astype(float)\n",
    "        \n",
    "        for n in range(0, self.max_epoch):\n",
    "            new_epoch_generator = self.batch_generator(X, y, shuffle=True, batch_size=self.batch_size)\n",
    "            \n",
    "            for batch_num, new_batch in enumerate(new_epoch_generator):\n",
    "                X_batch = new_batch[0]\n",
    "                y_batch = new_batch[1]\n",
    "                \n",
    "                batch_grad = self.calc_loss_grad(X_batch, y_batch)\n",
    "                batch_loss = self.calc_loss(X_batch, y_batch)\n",
    "                self.update_weights(batch_grad)\n",
    "                \n",
    "                self.errors_log['iter'].append(batch_num)\n",
    "                self.errors_log['loss'].append(batch_loss)\n",
    "                \n",
    "        batch_loss = self.calc_loss(X, y)\n",
    "        self.errors_log['loss'].append(batch_loss)\n",
    "        \n",
    "        return self\n",
    "    \n",
    "        \n",
    "    def predict(self, X):\n",
    "        '''\n",
    "        Предсказание класса\n",
    "        X - матрица объекты-признаки\n",
    "        Не забудьте тип модели (линейная или логистическая регрессия)!\n",
    "        '''\n",
    "        X1 = np.array(X)\n",
    "        add_clm = np.array([1] * (X1.shape[0]))\n",
    "        add_clm = add.reshape(-1, 1)\n",
    "        X1 = np.hstack((add, X1))\n",
    "        \n",
    "        w = np.array(self.weights)\n",
    "        y_pred = np.dot(X1, w)\n",
    "        y_pred = y_pred.ravel()\n",
    "        \n",
    "        if self.model_type == 'log_reg':\n",
    "            y_pred = np.array(list(map(sigmoid, y_hat)))\n",
    "            y_pred = (y_pred >= self.border).astype(int) \n",
    "        \n",
    "        return y_pred"
   ]
  },
  {
   "cell_type": "markdown",
   "metadata": {},
   "source": [
    "Запустите обе регрессии на синтетических данных. \n",
    "\n",
    "\n",
    "Выведите полученные веса и нарисуйте разделяющую границу между классами (используйте только первых два веса для первых двух признаков X[:,0], X[:,1] для отображения в 2d пространство ).  "
   ]
  },
  {
   "cell_type": "code",
   "execution_count": 148,
   "metadata": {},
   "outputs": [],
   "source": [
    "def plot_decision_boundary(clf):\n",
    "    x = np.linspace(-50, 50)\n",
    "    y = ((clf.weights[0][0]) + clf.weights[0][1] * x) / (-clf.weights[0][2])\n",
    "    line, = plt.plot(x, y, '-g', label='My SGD')\n",
    "    \n",
    "    return line"
   ]
  },
  {
   "cell_type": "code",
   "execution_count": 107,
   "metadata": {
    "scrolled": true
   },
   "outputs": [
    {
     "name": "stdout",
     "output_type": "stream",
     "text": [
      "[ 0.14354486 -0.17043888]\n",
      "[[ 0.01608667  0.12142962 -0.1326801 ]]\n"
     ]
    },
    {
     "data": {
      "image/png": "[encoded data removed]",
      "text/plain": [
       "<Figure size 864x360 with 1 Axes>"
      ]
     },
     "metadata": {},
     "output_type": "display_data"
    }
   ],
   "source": [
    "from sklearn.linear_model import LinearRegression\n",
    "\n",
    "np.random.seed(0)\n",
    "\n",
    "C1 = np.array([[0., -0.8], [1.5, 0.8]])\n",
    "C2 = np.array([[1., -0.7], [2., 0.7]])\n",
    "\n",
    "gauss1 = np.dot(np.random.randn(200, 2) + np.array([5, 3]), C1)\n",
    "gauss2 = np.dot(np.random.randn(200, 2) + np.array([1.5, 0]), C2)\n",
    "\n",
    "X = np.vstack([gauss1, gauss2])\n",
    "y = np.r_[np.ones(200), np.zeros(200)] # соединить последовательности\n",
    "\n",
    "my_clf_lin = MySGDClassifier(batch_generator, model_type='lin_reg')\n",
    "my_clf_lin.fit(X, y)\n",
    "\n",
    "clf_lin = LinearRegression()\n",
    "clf_lin.fit(X, y)\n",
    "print(clf_lin.coef_)\n",
    "\n",
    "x = np.linspace(-50, 50)\n",
    "k = ((clf_lin.coef_[0]) * x) / (-clf_lin.coef_[1])\n",
    "line2, = plt.plot(x, k, '-r', label='sklearn')\n",
    "\n",
    "line1 = plot_decision_boundary(my_clf_lin)\n",
    "print(my_clf_lin.weights)\n",
    "\n",
    "plt.legend(handles=[line1, line2])\n",
    "plt.ylim(-10, 10)\n",
    "plt.xlim(-10, 10)\n",
    "plt.scatter(X[:, 0], X[:, 1], c=y)\n",
    "plt.show()"
   ]
  },
  {
   "cell_type": "markdown",
   "metadata": {},
   "source": [
    "Далее будем анализировать Ваш алгоритм. \n",
    "Для этих заданий используйте датасет ниже."
   ]
  },
  {
   "cell_type": "code",
   "execution_count": 160,
   "metadata": {},
   "outputs": [
    {
     "name": "stdout",
     "output_type": "stream",
     "text": [
      "[[ 5.77339256 -6.60253713]]\n",
      "[[-0.06719554  0.13392585 -0.09295543]]\n"
     ]
    },
    {
     "data": {
      "image/png": "[encoded data removed]",
      "text/plain": [
       "<Figure size 864x360 with 1 Axes>"
      ]
     },
     "metadata": {},
     "output_type": "display_data"
    }
   ],
   "source": [
    "from sklearn.linear_model import SGDClassifier\n",
    "\n",
    "np.random.seed(0)\n",
    "\n",
    "C1 = np.array([[0., -0.8], [1.5, 0.8]])\n",
    "C2 = np.array([[1., -0.7], [2., 0.7]])\n",
    "gauss1 = np.dot(np.random.randn(200, 2) + np.array([5, 3]), C1)\n",
    "gauss2 = np.dot(np.random.randn(200, 2) + np.array([1.5, 0]), C2)\n",
    "\n",
    "X = np.vstack([gauss1, gauss2])\n",
    "y = np.r_[np.ones(200), np.zeros(200)]\n",
    "\n",
    "my_clf_log = MySGDClassifier(batch_generator, model_type='log_reg', alpha=0.05, batch_size=2)\n",
    "my_clf_log.fit(X, y)\n",
    "\n",
    "clf_log = SGDClassifier(loss='log')\n",
    "clf_log.fit(X, y)\n",
    "print(clf_log.coef_)\n",
    "\n",
    "x = np.linspace(-50, 50)\n",
    "k = ((clf_log.coef_[0][0]) * x) / (-clf_log.coef_[0][1])\n",
    "line2, = plt.plot(x, k, '-r', label='sklearn')\n",
    "\n",
    "line1 = plot_decision_boundary(my_clf_log)\n",
    "print(my_clf_log.weights)\n",
    "\n",
    "plt.legend(handles=[line1, line2])\n",
    "plt.ylim(-10, 10)\n",
    "plt.xlim(-10, 10)\n",
    "\n",
    "plt.scatter(X[:,0], X[:,1], c=y)\n",
    "plt.show()"
   ]
  },
  {
   "cell_type": "code",
   "execution_count": 161,
   "metadata": {},
   "outputs": [],
   "source": [
    "from sklearn.datasets import make_classification"
   ]
  },
  {
   "cell_type": "code",
   "execution_count": 162,
   "metadata": {},
   "outputs": [],
   "source": [
    "X, y = make_classification(n_samples=100000, n_features=10, \n",
    "                           n_informative=4, n_redundant=0, \n",
    "                           random_state=123, class_sep=1.0,\n",
    "                           n_clusters_per_class=1)"
   ]
  },
  {
   "cell_type": "markdown",
   "metadata": {},
   "source": [
    "Покажите сходимости обеих регрессией на этом датасете: изобразите график  функции потерь, усредненной по $N$ шагам градиентого спуска, для разных `alpha` (размеров шага). Разные `alpha` расположите на одном графике. \n",
    "\n",
    "$N$ можно брать 10, 50, 100 и т.д. "
   ]
  },
  {
   "cell_type": "code",
   "execution_count": 136,
   "metadata": {},
   "outputs": [
    {
     "name": "stderr",
     "output_type": "stream",
     "text": [
      "<ipython-input-105-92abb16c37a9>:105: RuntimeWarning: overflow encountered in double_scalars\n",
      "  loss += reg\n",
      "<ipython-input-105-92abb16c37a9>:79: RuntimeWarning: overflow encountered in square\n",
      "  loss = loss ** 2\n",
      "/opt/anaconda3/envs/technosphere/lib/python3.8/site-packages/numpy/core/_methods.py:47: RuntimeWarning: overflow encountered in reduce\n",
      "  return umr_sum(a, axis, dtype, out, keepdims, initial, where)\n",
      "<ipython-input-105-92abb16c37a9>:101: RuntimeWarning: overflow encountered in square\n",
      "  reg = w ** 2\n",
      "<ipython-input-105-92abb16c37a9>:136: RuntimeWarning: overflow encountered in multiply\n",
      "  loss_grad = X * a\n",
      "<ipython-input-105-92abb16c37a9>:154: RuntimeWarning: invalid value encountered in subtract\n",
      "  self.weights = self.weights - (new_grad * self.alpha)\n",
      "/opt/anaconda3/envs/technosphere/lib/python3.8/site-packages/numpy/core/_methods.py:160: RuntimeWarning: overflow encountered in reduce\n",
      "  ret = umr_sum(arr, axis, dtype, out, keepdims)\n",
      "/opt/anaconda3/envs/technosphere/lib/python3.8/site-packages/numpy/core/_methods.py:47: RuntimeWarning: invalid value encountered in reduce\n",
      "  return umr_sum(a, axis, dtype, out, keepdims, initial, where)\n",
      "<ipython-input-105-92abb16c37a9>:126: RuntimeWarning: overflow encountered in multiply\n",
      "  a = X * w\n",
      "<ipython-input-105-92abb16c37a9>:71: RuntimeWarning: overflow encountered in multiply\n",
      "  loss = X * w\n"
     ]
    },
    {
     "data": {
      "image/png": "[encoded data removed]",
      "text/plain": [
       "<Figure size 864x360 with 1 Axes>"
      ]
     },
     "metadata": {},
     "output_type": "display_data"
    }
   ],
   "source": [
    "clf = MySGDClassifier(batch_generator, model_type='lin_reg', alpha=0.01)\n",
    "clf.fit(X, y)\n",
    "N_arr = [10, 50, 100, 500, 1000, 10000, 100000]\n",
    "arr = []\n",
    "for i in N_arr:\n",
    "    arr.append(np.mean(clf.errors_log['loss'][:i]))\n",
    "    \n",
    "line1, = plt.plot(N_arr, arr, label='alpha = 0.01')\n",
    "\n",
    "\n",
    "clf = MySGDClassifier(batch_generator, model_type='lin_reg', alpha=0.05)\n",
    "clf.fit(X, y)\n",
    "N_arr = [10, 50, 100, 500, 1000, 10000, 100000]\n",
    "arr = []\n",
    "for i in N_arr:\n",
    "    arr.append(np.mean(clf.errors_log['loss'][:i]))\n",
    "line2, = plt.plot(N_arr, arr, label='alpha = 0.05')\n",
    "\n",
    "\n",
    "clf = MySGDClassifier(batch_generator, model_type='lin_reg', alpha=0.15)\n",
    "clf.fit(X, y)\n",
    "N_arr = [10, 50, 100, 500, 1000, 10000, 100000]\n",
    "arr = []\n",
    "for i in N_arr:\n",
    "    arr.append(np.mean(clf.errors_log['loss'][:i]))\n",
    "    \n",
    "line3, = plt.plot(N_arr, arr, label='alpha = 0.15')\n",
    "\n",
    "\n",
    "clf = MySGDClassifier(batch_generator, model_type='lin_reg', alpha=0.25)\n",
    "clf.fit(X, y)\n",
    "N_arr = [10, 50, 100, 500, 1000, 10000, 100000]\n",
    "arr = []\n",
    "for i in N_arr:\n",
    "    arr.append(np.mean(clf.errors_log['loss'][:i]))\n",
    "    \n",
    "line4, = plt.plot(N_arr, arr, label='alpha = 0.25')\n",
    "\n",
    "\n",
    "clf = MySGDClassifier(batch_generator, model_type='lin_reg', alpha=0.5)\n",
    "clf.fit(X, y)\n",
    "N_arr = [10, 50, 100, 500, 1000, 10000, 100000]\n",
    "arr = []\n",
    "for i in N_arr:\n",
    "    arr.append(np.mean(clf.errors_log['loss'][:i]))\n",
    "    \n",
    "line5, = plt.plot(N_arr, arr, label='alpha = 0.5')\n",
    "\n",
    "\n",
    "clf = MySGDClassifier(batch_generator, model_type='lin_reg', alpha=1.0)\n",
    "clf.fit(X, y)\n",
    "N_arr = [10, 50, 100, 500, 1000, 10000, 100000]\n",
    "arr = []\n",
    "for i in N_arr:\n",
    "    arr.append(np.mean(clf.errors_log['loss'][:i]))\n",
    "    \n",
    "line6, = plt.plot(N_arr, arr, label='alpha = 1.0')\n",
    "\n",
    "\n",
    "plt.xlim(0, 500)\n",
    "plt.ylim(0, 10000)\n",
    "\n",
    "plt.legend(handles=[line1, line2, line3, line4, line5, line6])\n",
    "plt.show()"
   ]
  },
  {
   "cell_type": "code",
   "execution_count": 137,
   "metadata": {},
   "outputs": [
    {
     "data": {
      "image/png": "[encoded data removed]",
      "text/plain": [
       "<Figure size 864x360 with 1 Axes>"
      ]
     },
     "metadata": {},
     "output_type": "display_data"
    }
   ],
   "source": [
    "\n",
    "\n",
    "clf = MySGDClassifier(batch_generator, model_type='log_reg', alpha=0.01)\n",
    "clf.fit(X, y)\n",
    "N_arr = [10, 50, 100, 500, 1000, 10000, 100000]\n",
    "arr = []\n",
    "for i in N_arr:\n",
    "    arr.append(np.mean(clf.errors_log['loss'][:i]))\n",
    "\n",
    "line1, = plt.plot(N_arr, arr, label='alpha = 0.01')\n",
    "\n",
    "\n",
    "clf = MySGDClassifier(batch_generator, model_type='log_reg', alpha=0.05)\n",
    "clf.fit(X, y)\n",
    "N_arr = [10, 50, 100, 500, 1000, 10000, 100000]\n",
    "arr = []\n",
    "for i in N_arr:\n",
    "    arr.append(np.mean(clf.errors_log['loss'][:i]))\n",
    "line2, = plt.plot(N_arr, arr, label='alpha = 0.05')\n",
    "\n",
    "\n",
    "clf = MySGDClassifier(batch_generator, model_type='log_reg', alpha=0.15)\n",
    "clf.fit(X, y)\n",
    "N_arr = [10, 50, 100, 500, 1000, 10000, 100000]\n",
    "arr = []\n",
    "for i in N_arr:\n",
    "    arr.append(np.mean(clf.errors_log['loss'][:i]))\n",
    "line3, = plt.plot(N_arr, arr, label='alpha = 0.15')\n",
    "\n",
    "\n",
    "clf = MySGDClassifier(batch_generator, model_type='log_reg', alpha=0.25)\n",
    "clf.fit(X, y)\n",
    "N_arr = [10, 50, 100, 500, 1000, 10000, 100000]\n",
    "arr = []\n",
    "for i in N_arr:\n",
    "    arr.append(np.mean(clf.errors_log['loss'][:i]))\n",
    "line4, = plt.plot(N_arr, arr, label='alpha = 0.25')\n",
    "\n",
    "\n",
    "clf = MySGDClassifier(batch_generator, model_type='log_reg', alpha=0.5)\n",
    "clf.fit(X, y)\n",
    "N_arr = [10, 50, 100, 500, 1000, 10000, 100000]\n",
    "arr = []\n",
    "for i in N_arr:\n",
    "    arr.append(np.mean(clf.errors_log['loss'][:i]))\n",
    "line5, = plt.plot(N_arr, arr, label='alpha = 0.5')\n",
    "\n",
    "\n",
    "clf = MySGDClassifier(batch_generator, model_type='log_reg', alpha=1.0)\n",
    "clf.fit(X, y)\n",
    "N_arr = [10, 50, 100, 500, 1000, 10000, 100000]\n",
    "arr = []\n",
    "for i in N_arr:\n",
    "    arr.append(np.mean(clf.errors_log['loss'][:i]))\n",
    "line6, = plt.plot(N_arr, arr, label='alpha = 1.0')\n",
    "\n",
    "\n",
    "plt.xlim(0, 1000)\n",
    "\n",
    "plt.legend(handles=[line1, line2, line3, line4, line5, line6])\n",
    "plt.show()"
   ]
  },
  {
   "cell_type": "markdown",
   "metadata": {},
   "source": [
    "Что Вы можете сказать про сходимость метода при различных `alpha`? Какое значение стоит выбирать для лучшей сходимости?"
   ]
  },
  {
   "cell_type": "markdown",
   "metadata": {},
   "source": [
    "Изобразите график среднего значения весов для обеих регрессий в зависимости от коеф. регуляризации С из `np.logspace(3, -3, 10)` "
   ]
  },
  {
   "cell_type": "code",
   "execution_count": 163,
   "metadata": {},
   "outputs": [
    {
     "name": "stderr",
     "output_type": "stream",
     "text": [
      "<ipython-input-157-81ec454f5c16>:97: RuntimeWarning: overflow encountered in double_scalars\n",
      "  reg /= self.C\n",
      "<ipython-input-157-81ec454f5c16>:72: RuntimeWarning: overflow encountered in square\n",
      "  loss = loss ** 2\n",
      "/opt/anaconda3/envs/technosphere/lib/python3.8/site-packages/numpy/core/_methods.py:47: RuntimeWarning: overflow encountered in reduce\n",
      "  return umr_sum(a, axis, dtype, out, keepdims, initial, where)\n",
      "<ipython-input-157-81ec454f5c16>:95: RuntimeWarning: overflow encountered in square\n",
      "  reg = w ** 2\n",
      "<ipython-input-157-81ec454f5c16>:132: RuntimeWarning: overflow encountered in true_divide\n",
      "  reg = w / self.C\n",
      "<ipython-input-157-81ec454f5c16>:148: RuntimeWarning: invalid value encountered in subtract\n",
      "  self.weights = self.weights - (new_grad * self.alpha)\n",
      "/opt/anaconda3/envs/technosphere/lib/python3.8/site-packages/numpy/core/_methods.py:47: RuntimeWarning: invalid value encountered in reduce\n",
      "  return umr_sum(a, axis, dtype, out, keepdims, initial, where)\n"
     ]
    },
    {
     "data": {
      "image/png": "[encoded data removed]",
      "text/plain": [
       "<Figure size 864x360 with 1 Axes>"
      ]
     },
     "metadata": {},
     "output_type": "display_data"
    }
   ],
   "source": [
    "x = np.logspace(3, -3, 10)\n",
    "mw = []\n",
    "\n",
    "for i in x:\n",
    "    mw.append(np.mean(MySGDClassifier(batch_generator,\n",
    "                                     model_type='lin_reg',\n",
    "                                     C=i).fit(X, y).weights))\n",
    "    \n",
    "plt.plot(x, mw)\n",
    "plt.xlim(0, 100)\n",
    "plt.ylim(0, 100)\n",
    "plt.show()"
   ]
  },
  {
   "cell_type": "code",
   "execution_count": 164,
   "metadata": {},
   "outputs": [
    {
     "name": "stderr",
     "output_type": "stream",
     "text": [
      "<ipython-input-157-81ec454f5c16>:97: RuntimeWarning: overflow encountered in double_scalars\n",
      "  reg /= self.C\n",
      "<ipython-input-157-81ec454f5c16>:95: RuntimeWarning: overflow encountered in square\n",
      "  reg = w ** 2\n",
      "/opt/anaconda3/envs/technosphere/lib/python3.8/site-packages/numpy/core/_methods.py:47: RuntimeWarning: overflow encountered in reduce\n",
      "  return umr_sum(a, axis, dtype, out, keepdims, initial, where)\n",
      "<ipython-input-157-81ec454f5c16>:132: RuntimeWarning: overflow encountered in true_divide\n",
      "  reg = w / self.C\n",
      "<ipython-input-157-81ec454f5c16>:136: RuntimeWarning: overflow encountered in multiply\n",
      "  reg = reg * 2\n",
      "/opt/anaconda3/envs/technosphere/lib/python3.8/site-packages/numpy/core/_methods.py:47: RuntimeWarning: invalid value encountered in reduce\n",
      "  return umr_sum(a, axis, dtype, out, keepdims, initial, where)\n"
     ]
    },
    {
     "data": {
      "image/png": "[encoded data removed]",
      "text/plain": [
       "<Figure size 864x360 with 1 Axes>"
      ]
     },
     "metadata": {},
     "output_type": "display_data"
    }
   ],
   "source": [
    "x = np.logspace(3, -3, 10)\n",
    "mw = []\n",
    "\n",
    "for i in x:\n",
    "     mw.append(np.mean(MySGDClassifier(batch_generator,\n",
    "                                     model_type='log_reg',\n",
    "                                     C=i).fit(X, y).weights))\n",
    "    \n",
    "plt.plot(x, mw)\n",
    "plt.xlim(0, 100)\n",
    "plt.ylim(0, 100)\n",
    "plt.show()"
   ]
  },
  {
   "cell_type": "markdown",
   "metadata": {},
   "source": [
    "Довольны ли Вы, насколько сильно уменьшились Ваши веса? "
   ]
  },
  {
   "cell_type": "markdown",
   "metadata": {},
   "source": [
    "# Боевое применение (4  балла)\n",
    "\n",
    "**Защита данной части возможна только при преодолении в проекте бейзлайна Handmade baseline.**"
   ]
  },
  {
   "cell_type": "markdown",
   "metadata": {},
   "source": [
    "Давайте применим модель на итоговом проекте! Датасет сделаем точно таким же образом, как было показано в project_overview.ipynb\n",
    "\n",
    "Применим обе регрессии, подберем для них параметры и сравним качество. Может быть Вы еще одновременно с решением домашней работы подрастете на лидерборде!"
   ]
  },
  {
   "cell_type": "code",
   "execution_count": 109,
   "metadata": {},
   "outputs": [
    {
     "name": "stdout",
     "output_type": "stream",
     "text": [
      "28026\n"
     ]
    }
   ],
   "source": [
    "doc_to_title = {}\n",
    "with open('docs_titles.tsv') as f:\n",
    "    for num_line, line in enumerate(f):\n",
    "        if num_line == 0:\n",
    "            continue\n",
    "        data = line.strip().split('\\t', 1)\n",
    "        doc_id = int(data[0])\n",
    "        if len(data) == 1:\n",
    "            title = ''\n",
    "        else:\n",
    "            title = data[1]\n",
    "        doc_to_title[doc_id] = title\n",
    "\n",
    "print (len(doc_to_title))"
   ]
  },
  {
   "cell_type": "code",
   "execution_count": 110,
   "metadata": {},
   "outputs": [],
   "source": [
    "train_data = pd.read_csv('train_groups.csv')\n",
    "traingroups_titledata = {}\n",
    "for i in range(len(train_data)):\n",
    "    new_doc = train_data.iloc[i]\n",
    "    doc_group = new_doc['group_id']\n",
    "    doc_id = new_doc['doc_id']\n",
    "    target = new_doc['target']\n",
    "    title = doc_to_title[doc_id]\n",
    "    if doc_group not in traingroups_titledata:\n",
    "        traingroups_titledata[doc_group] = []\n",
    "    traingroups_titledata[doc_group].append((doc_id, title, target))"
   ]
  },
  {
   "cell_type": "code",
   "execution_count": 111,
   "metadata": {},
   "outputs": [
    {
     "name": "stdout",
     "output_type": "stream",
     "text": [
      "(11690, 15) (11690,) (11690,)\n"
     ]
    }
   ],
   "source": [
    "y_train = []\n",
    "X_train = []\n",
    "groups_train = []\n",
    "for new_group in traingroups_titledata:\n",
    "    docs = traingroups_titledata[new_group]\n",
    "    for k, (doc_id, title, target_id) in enumerate(docs):\n",
    "        y_train.append(target_id)\n",
    "        groups_train.append(new_group)\n",
    "        all_dist = []\n",
    "        words = set(title.strip().split())\n",
    "        for j in range(0, len(docs)):\n",
    "            if k == j:\n",
    "                continue\n",
    "            doc_id_j, title_j, target_j = docs[j]\n",
    "            words_j = set(title_j.strip().split())\n",
    "            all_dist.append(len(words.intersection(words_j)))\n",
    "        X_train.append(sorted(all_dist, reverse=True)[0:15]    )\n",
    "X_train = np.array(X_train)\n",
    "y_train = np.array(y_train)\n",
    "groups_train = np.array(groups_train)\n",
    "print (X_train.shape, y_train.shape, groups_train.shape)"
   ]
  },
  {
   "cell_type": "markdown",
   "metadata": {},
   "source": [
    "Подберите размер батча для обучения. Линейная модель не должна учиться дольше нескольких минут. \n",
    "\n",
    "Не забывайте использовать скейлер!"
   ]
  },
  {
   "cell_type": "code",
   "execution_count": 112,
   "metadata": {},
   "outputs": [],
   "source": [
    "from sklearn.metrics import f1_score\n",
    "from sklearn.linear_model import LinearRegression\n",
    "from sklearn.preprocessing import StandardScaler"
   ]
  },
  {
   "cell_type": "code",
   "execution_count": 113,
   "metadata": {},
   "outputs": [
    {
     "name": "stdout",
     "output_type": "stream",
     "text": [
      "(11690, 15)\n"
     ]
    }
   ],
   "source": [
    "ss = StandardScaler()\n",
    "X = ss.fit_transform(X_train, y_train)\n",
    "print(X.shape)"
   ]
  },
  {
   "cell_type": "code",
   "execution_count": 125,
   "metadata": {},
   "outputs": [
    {
     "data": {
      "image/png": "[encoded data removed]",
      "text/plain": [
       "<Figure size 864x360 with 1 Axes>"
      ]
     },
     "metadata": {},
     "output_type": "display_data"
    }
   ],
   "source": [
    "batch_sizes = [10, 50, 100, 200, 300, 500, 1000]\n",
    "log_reg = []\n",
    "lin_reg = []\n",
    "\n",
    "for i in batch_sizes:\n",
    "    my_clf = MySGDClassifier(batch_generator,\n",
    "                             model_type='log_reg', batch_size=i).fit(X, y_train)\n",
    "    log_reg.append(my_clf.errors_log['loss'][-1])\n",
    "    my_clf = MySGDClassifier(batch_generator,\n",
    "                             model_type='lin_reg', batch_size=i).fit(X, y_train)\n",
    "    lin_reg.append(my_clf.errors_log['loss'][-1])\n",
    "    \n",
    "line1, = plt.plot(batch_sizes, log_reg, label='log_reg')\n",
    "line2, = plt.plot(batch_sizes, lin_reg, label='lin_reg')\n",
    "\n",
    "plt.legend(handles=[line1, line2])\n",
    "plt.xlim(0, 1000)\n",
    "plt.ylim(0, 10)\n",
    "plt.show()"
   ]
  },
  {
   "cell_type": "markdown",
   "metadata": {},
   "source": [
    "Разбейте данные на обучение и валидацию. Подберите параметры C, alpha, max_epoch, model_type на валидации (Вы же помните, как правильно в этой задаче делать валидацию?)"
   ]
  },
  {
   "cell_type": "code",
   "execution_count": 128,
   "metadata": {},
   "outputs": [
    {
     "name": "stdout",
     "output_type": "stream",
     "text": [
      "log_reg : c = 0.1, alpha = 0.01, max_epoch = 5 , score = 0.6184846109012901\n",
      "lin_reg : c = 0.1, alpha = 0.01, max_epoch = 5, score = 0.012357166697339392\n",
      "log_reg : c = 0.1, alpha = 0.01, max_epoch = 10 , score = 0.6174208724316649\n",
      "lin_reg : c = 0.1, alpha = 0.01, max_epoch = 10, score = 0.017110211869456184\n",
      "log_reg : c = 0.1, alpha = 0.01, max_epoch = 50 , score = 0.6166462877996745\n",
      "lin_reg : c = 0.1, alpha = 0.01, max_epoch = 50, score = 0.016735765317974074\n",
      "log_reg : c = 0.1, alpha = 0.05, max_epoch = 5 , score = 0.6181445816676097\n",
      "lin_reg : c = 0.1, alpha = 0.05, max_epoch = 5, score = 0.04761691823526662\n",
      "log_reg : c = 0.1, alpha = 0.05, max_epoch = 10 , score = 0.6158974652978193\n",
      "lin_reg : c = 0.1, alpha = 0.05, max_epoch = 10, score = 0.04445208453039756\n",
      "log_reg : c = 0.1, alpha = 0.05, max_epoch = 50 , score = 0.6177199029813333\n",
      "lin_reg : c = 0.1, alpha = 0.05, max_epoch = 50, score = 0.02618282948745437\n",
      "log_reg : c = 0.1, alpha = 0.15, max_epoch = 5 , score = 0.6093472954333905\n"
     ]
    },
    {
     "name": "stderr",
     "output_type": "stream",
     "text": [
      "<ipython-input-105-92abb16c37a9>:79: RuntimeWarning: overflow encountered in square\n",
      "  loss = loss ** 2\n",
      "<ipython-input-105-92abb16c37a9>:103: RuntimeWarning: overflow encountered in double_scalars\n",
      "  reg /= self.C\n",
      "<ipython-input-105-92abb16c37a9>:101: RuntimeWarning: overflow encountered in square\n",
      "  reg = w ** 2\n"
     ]
    },
    {
     "name": "stdout",
     "output_type": "stream",
     "text": [
      "lin_reg : c = 0.1, alpha = 0.15, max_epoch = 5, score = 0.6145836533390213\n",
      "log_reg : c = 0.1, alpha = 0.15, max_epoch = 10 , score = 0.609413483016558\n",
      "lin_reg : c = 0.1, alpha = 0.15, max_epoch = 10, score = 0.0\n"
     ]
    },
    {
     "name": "stderr",
     "output_type": "stream",
     "text": [
      "<ipython-input-105-92abb16c37a9>:142: RuntimeWarning: overflow encountered in multiply\n",
      "  reg = reg * 2\n"
     ]
    },
    {
     "name": "stdout",
     "output_type": "stream",
     "text": [
      "log_reg : c = 0.1, alpha = 0.15, max_epoch = 50 , score = 0.0\n",
      "lin_reg : c = 0.1, alpha = 0.15, max_epoch = 50, score = 0.0\n",
      "log_reg : c = 0.1, alpha = 0.25, max_epoch = 5 , score = 0.6093472954333905\n",
      "lin_reg : c = 0.1, alpha = 0.25, max_epoch = 5, score = 0.615094382062035\n"
     ]
    },
    {
     "name": "stderr",
     "output_type": "stream",
     "text": [
      "<ipython-input-105-92abb16c37a9>:138: RuntimeWarning: overflow encountered in true_divide\n",
      "  reg = w / self.C\n"
     ]
    },
    {
     "name": "stdout",
     "output_type": "stream",
     "text": [
      "log_reg : c = 0.1, alpha = 0.25, max_epoch = 10 , score = 0.0\n",
      "lin_reg : c = 0.1, alpha = 0.25, max_epoch = 10, score = 0.0\n",
      "log_reg : c = 0.1, alpha = 0.25, max_epoch = 50 , score = 0.0\n",
      "lin_reg : c = 0.1, alpha = 0.25, max_epoch = 50, score = 0.0\n",
      "log_reg : c = 1, alpha = 0.01, max_epoch = 5 , score = 0.6142548319273382\n",
      "lin_reg : c = 1, alpha = 0.01, max_epoch = 5, score = 0.38421790199944184\n",
      "log_reg : c = 1, alpha = 0.01, max_epoch = 10 , score = 0.61438592158749\n",
      "lin_reg : c = 1, alpha = 0.01, max_epoch = 10, score = 0.3311843044514708\n",
      "log_reg : c = 1, alpha = 0.01, max_epoch = 50 , score = 0.6148771671206016\n",
      "lin_reg : c = 1, alpha = 0.01, max_epoch = 50, score = 0.308461154757451\n",
      "log_reg : c = 1, alpha = 0.05, max_epoch = 5 , score = 0.6153227006447362\n",
      "lin_reg : c = 1, alpha = 0.05, max_epoch = 5, score = 0.30984758998951406\n",
      "log_reg : c = 1, alpha = 0.05, max_epoch = 10 , score = 0.6143369606538583\n",
      "lin_reg : c = 1, alpha = 0.05, max_epoch = 10, score = 0.3222181786252576\n",
      "log_reg : c = 1, alpha = 0.05, max_epoch = 50 , score = 0.6144881918749853\n",
      "lin_reg : c = 1, alpha = 0.05, max_epoch = 50, score = 0.25506344751706983\n",
      "log_reg : c = 1, alpha = 0.15, max_epoch = 5 , score = 0.613709969218268\n",
      "lin_reg : c = 1, alpha = 0.15, max_epoch = 5, score = 0.6142622551015625\n",
      "log_reg : c = 1, alpha = 0.15, max_epoch = 10 , score = 0.609846462396841\n",
      "lin_reg : c = 1, alpha = 0.15, max_epoch = 10, score = 0.6152276291320279\n",
      "log_reg : c = 1, alpha = 0.15, max_epoch = 50 , score = 0.6053092662123966\n",
      "lin_reg : c = 1, alpha = 0.15, max_epoch = 50, score = 0.46898353812959676\n",
      "log_reg : c = 1, alpha = 0.25, max_epoch = 5 , score = 0.61146379217907\n",
      "lin_reg : c = 1, alpha = 0.25, max_epoch = 5, score = 0.6145720936497509\n",
      "log_reg : c = 1, alpha = 0.25, max_epoch = 10 , score = 0.6095932158595553\n",
      "lin_reg : c = 1, alpha = 0.25, max_epoch = 10, score = 0.0\n",
      "log_reg : c = 1, alpha = 0.25, max_epoch = 50 , score = 0.5531463331663334\n"
     ]
    },
    {
     "name": "stderr",
     "output_type": "stream",
     "text": [
      "<ipython-input-105-92abb16c37a9>:154: RuntimeWarning: invalid value encountered in subtract\n",
      "  self.weights = self.weights - (new_grad * self.alpha)\n"
     ]
    },
    {
     "name": "stdout",
     "output_type": "stream",
     "text": [
      "lin_reg : c = 1, alpha = 0.25, max_epoch = 50, score = 0.0\n",
      "log_reg : c = 10, alpha = 0.01, max_epoch = 5 , score = 0.6094828419780534\n",
      "lin_reg : c = 10, alpha = 0.01, max_epoch = 5, score = 0.384024747890765\n",
      "log_reg : c = 10, alpha = 0.01, max_epoch = 10 , score = 0.6096201035522067\n",
      "lin_reg : c = 10, alpha = 0.01, max_epoch = 10, score = 0.3982542830143883\n",
      "log_reg : c = 10, alpha = 0.01, max_epoch = 50 , score = 0.5770168806702252\n",
      "lin_reg : c = 10, alpha = 0.01, max_epoch = 50, score = 0.4621456258381145\n",
      "log_reg : c = 10, alpha = 0.05, max_epoch = 5 , score = 0.6070758679687556\n",
      "lin_reg : c = 10, alpha = 0.05, max_epoch = 5, score = 0.433712899702027\n",
      "log_reg : c = 10, alpha = 0.05, max_epoch = 10 , score = 0.574650482478357\n",
      "lin_reg : c = 10, alpha = 0.05, max_epoch = 10, score = 0.4712343009991926\n",
      "log_reg : c = 10, alpha = 0.05, max_epoch = 50 , score = 0.5760755647053547\n",
      "lin_reg : c = 10, alpha = 0.05, max_epoch = 50, score = 0.40942132626532696\n",
      "log_reg : c = 10, alpha = 0.15, max_epoch = 5 , score = 0.5732252408450181\n",
      "lin_reg : c = 10, alpha = 0.15, max_epoch = 5, score = 0.41509514938250086\n",
      "log_reg : c = 10, alpha = 0.15, max_epoch = 10 , score = 0.5747529798900167\n",
      "lin_reg : c = 10, alpha = 0.15, max_epoch = 10, score = 0.4376345768215411\n",
      "log_reg : c = 10, alpha = 0.15, max_epoch = 50 , score = 0.5567476563411047\n",
      "lin_reg : c = 10, alpha = 0.15, max_epoch = 50, score = 0.4548900067867569\n",
      "log_reg : c = 10, alpha = 0.25, max_epoch = 5 , score = 0.5735136805943267\n",
      "lin_reg : c = 10, alpha = 0.25, max_epoch = 5, score = 0.6141310853192694\n",
      "log_reg : c = 10, alpha = 0.25, max_epoch = 10 , score = 0.5659609643862183\n",
      "lin_reg : c = 10, alpha = 0.25, max_epoch = 10, score = 0.6148681909382189\n",
      "log_reg : c = 10, alpha = 0.25, max_epoch = 50 , score = 0.5138286216301845\n",
      "lin_reg : c = 10, alpha = 0.25, max_epoch = 50, score = 0.0\n",
      "log_reg : c = 30, alpha = 0.01, max_epoch = 5 , score = 0.6096518826588165\n",
      "lin_reg : c = 30, alpha = 0.01, max_epoch = 5, score = 0.384883779831666\n",
      "log_reg : c = 30, alpha = 0.01, max_epoch = 10 , score = 0.6095429564353383\n",
      "lin_reg : c = 30, alpha = 0.01, max_epoch = 10, score = 0.3900648228498729\n",
      "log_reg : c = 30, alpha = 0.01, max_epoch = 50 , score = 0.6096908781447459\n",
      "lin_reg : c = 30, alpha = 0.01, max_epoch = 50, score = 0.4366251112326815\n",
      "log_reg : c = 30, alpha = 0.05, max_epoch = 5 , score = 0.609464408939516\n",
      "lin_reg : c = 30, alpha = 0.05, max_epoch = 5, score = 0.44055322224654053\n",
      "log_reg : c = 30, alpha = 0.05, max_epoch = 10 , score = 0.6101113568802586\n",
      "lin_reg : c = 30, alpha = 0.05, max_epoch = 10, score = 0.42210572841208244\n",
      "log_reg : c = 30, alpha = 0.05, max_epoch = 50 , score = 0.5469027455271881\n",
      "lin_reg : c = 30, alpha = 0.05, max_epoch = 50, score = 0.42249971498376865\n",
      "log_reg : c = 30, alpha = 0.15, max_epoch = 5 , score = 0.5497540927506854\n",
      "lin_reg : c = 30, alpha = 0.15, max_epoch = 5, score = 0.5443697997107597\n",
      "log_reg : c = 30, alpha = 0.15, max_epoch = 10 , score = 0.537353755688153\n",
      "lin_reg : c = 30, alpha = 0.15, max_epoch = 10, score = 0.4435615285736049\n",
      "log_reg : c = 30, alpha = 0.15, max_epoch = 50 , score = 0.5221036820566574\n",
      "lin_reg : c = 30, alpha = 0.15, max_epoch = 50, score = 0.45376848821123233\n",
      "log_reg : c = 30, alpha = 0.25, max_epoch = 5 , score = 0.5495144504721304\n",
      "lin_reg : c = 30, alpha = 0.25, max_epoch = 5, score = 0.6141310853192694\n",
      "log_reg : c = 30, alpha = 0.25, max_epoch = 10 , score = 0.5284741741181768\n",
      "lin_reg : c = 30, alpha = 0.25, max_epoch = 10, score = 0.6148681909382189\n",
      "log_reg : c = 30, alpha = 0.25, max_epoch = 50 , score = 0.47649815007512547\n",
      "lin_reg : c = 30, alpha = 0.25, max_epoch = 50, score = 0.0\n",
      "{'C': 0.1, 'alpha': 0.01, 'max_epoch': 5, 'model_type': 'log_reg'}\n",
      "0.6184846109012901\n"
     ]
    }
   ],
   "source": [
    "from sklearn.model_selection import KFold\n",
    "\n",
    "kf = KFold(n_splits=3, shuffle=True)\n",
    "\n",
    "c_range = [0.1, 1, 10, 30]\n",
    "alpha_range = [0.01, 0.05, 0.15, 0.25]\n",
    "max_epoch_range = [5, 10, 50]\n",
    "\n",
    "best_set = {}\n",
    "max_score = 0.0\n",
    "\n",
    "for c in c_range:\n",
    "    for alpha in alpha_range:\n",
    "        for max_epoch in max_epoch_range:\n",
    "            clf = MySGDClassifier(batch_generator,\n",
    "                                  C=c,\n",
    "                                  alpha=alpha,\n",
    "                                  max_epoch=max_epoch,\n",
    "                                  model_type='log_reg', batch_size=100)\n",
    "            folds = kf.split(X)\n",
    "            scores = []\n",
    "            for train_ind, test_ind in folds:\n",
    "                clf.fit(X[train_ind], y_train[train_ind])\n",
    "                scores.append(f1_score(y_train[test_ind],\n",
    "                                       clf.predict(X[test_ind])\n",
    "                                      )\n",
    "                             )\n",
    "            score = np.mean(np.array(scores))\n",
    "            if score > max_score:\n",
    "                best_set = {'C': c, \n",
    "                            'alpha': alpha,\n",
    "                            'max_epoch': max_epoch, \n",
    "                            'model_type': 'log_reg'}\n",
    "                max_score = score\n",
    "            print('''log_reg : c = {}, alpha = {}, max_epoch = {} , score = {}'''.format(c, alpha, max_epoch, score))\n",
    "            \n",
    "            clf = MySGDClassifier(batch_generator,\n",
    "                                  C=c, alpha=alpha,\n",
    "                                  max_epoch=max_epoch,\n",
    "                                  model_type='lin_reg', batch_size=100)\n",
    "            folds = kf.split(X)\n",
    "            scores = []\n",
    "            for train_ind, test_ind in folds:\n",
    "                clf.fit(X[train_ind], y_train[train_ind])\n",
    "                scores.append(f1_score(y_train[test_ind],\n",
    "                                       (clf.predict(X[test_ind]) >= 0.5)\n",
    "                                       .astype(int)))\n",
    "            score = np.mean(np.array(scores))\n",
    "            if score > max_score:\n",
    "                best_set = {'C': c, 'alpha': alpha,\n",
    "                            'max_epoch': max_epoch, 'model_type': 'lin_reg'}\n",
    "                max_score = score\n",
    "            print('''lin_reg : c = {}, alpha = {}, max_epoch = {}, score = {}'''.format(c, alpha, max_epoch, score))\n",
    "            \n",
    "print(best_set)\n",
    "print(max_score)"
   ]
  },
  {
   "cell_type": "markdown",
   "metadata": {
    "collapsed": true
   },
   "source": [
    "Подберите порог линейной модели, по достижении которого, Вы будете относить объект к классу 1. Вспомните, какую метрику мы оптимизируем в соревновании.  Как тогда правильно подобрать порог?"
   ]
  },
  {
   "cell_type": "code",
   "execution_count": 129,
   "metadata": {},
   "outputs": [
    {
     "name": "stdout",
     "output_type": "stream",
     "text": [
      "done for border 0.1, score = 0.6181445816676097\n",
      "done for border 0.2, score = 0.6178538850169235\n",
      "done for border 0.3, score = 0.6178538850169235\n",
      "done for border 0.4, score = 0.6178538850169235\n",
      "done for border 0.5, score = 0.6178538850169235\n",
      "done for border 0.6, score = 0.6178538850169235\n",
      "done for border 0.7, score = 0.6178538850169235\n",
      "done for border 0.8, score = 0.6178538850169235\n",
      "done for border 0.9, score = 0.6178538850169235\n",
      "0.6181445816676097\n",
      "0.1\n"
     ]
    }
   ],
   "source": [
    "borders = [0.1, 0.2, 0.3, 0.4, 0.5, 0.6, 0.7, 0.8, 0.9]\n",
    "max_score = 0.0\n",
    "best_border = 0.0\n",
    "\n",
    "for i in borders:\n",
    "    clf = MySGDClassifier(batch_generator, C=0.1, alpha=0.05, max_epoch=5,\n",
    "                          model_type='log_reg', batch_size=100, border=i)\n",
    "    folds = kf.split(X)\n",
    "    scores = []\n",
    "    for train_ind, test_ind in folds:\n",
    "        clf.fit(X[train_ind], y_train[train_ind])\n",
    "        scores.append(f1_score(y_train[test_ind],\n",
    "                               clf.predict(X[test_ind])))\n",
    "    score = np.mean(np.array(scores))\n",
    "    if score > max_score:\n",
    "        max_score = score\n",
    "        best_border = i\n",
    "    print('done for border {}, score = {}'.format(i, score))\n",
    "    \n",
    "print(max_score)\n",
    "print(best_border)"
   ]
  },
  {
   "cell_type": "code",
   "execution_count": 130,
   "metadata": {},
   "outputs": [],
   "source": [
    "import pandas as pd\n",
    "test_data = pd.read_csv('test_groups.csv')\n",
    "testgroups_titledata = {}\n",
    "for i in range(len(test_data)):\n",
    "    new_doc = test_data.iloc[i]\n",
    "    doc_group = new_doc['group_id']\n",
    "    doc_id = new_doc['doc_id']\n",
    "    title = doc_to_title[doc_id]\n",
    "    if doc_group not in testgroups_titledata:\n",
    "        testgroups_titledata[doc_group] = []\n",
    "    testgroups_titledata[doc_group].append((doc_id, title))"
   ]
  },
  {
   "cell_type": "code",
   "execution_count": 131,
   "metadata": {},
   "outputs": [
    {
     "name": "stdout",
     "output_type": "stream",
     "text": [
      "(16627, 15) (16627,)\n",
      "[130 130 130 ... 309 309 309]\n"
     ]
    }
   ],
   "source": [
    "import numpy as np\n",
    "X_test = []\n",
    "groups_test = []\n",
    "\n",
    "for new_group in testgroups_titledata:\n",
    "    docs = testgroups_titledata[new_group]\n",
    "    for k, (doc_id, title) in enumerate(docs):\n",
    "        groups_test.append(new_group)\n",
    "        all_dist = []\n",
    "        words = set(title.strip().split())\n",
    "        for j in range(0, len(docs)):\n",
    "            if k == j:\n",
    "                continue\n",
    "            doc_id_j, title_j = docs[j]\n",
    "            words_j = set(title_j.strip().split())\n",
    "            all_dist.append(len(words.intersection(words_j)))\n",
    "        X_test.append(sorted(all_dist, reverse=True)[0:15])\n",
    "        \n",
    "X_test = np.array(X_test)\n",
    "groups_test = np.array(groups_test)\n",
    "\n",
    "print(X_test.shape, groups_test.shape)\n",
    "print(groups_test)"
   ]
  },
  {
   "cell_type": "markdown",
   "metadata": {},
   "source": [
    "С лучшими параметрами на валидации сделайте предсказание на тестовом множестве, отправьте его на проверку на платформу kaggle. Убедитесь, что Вы смогли побить public score первого бейзлайна."
   ]
  },
  {
   "cell_type": "markdown",
   "metadata": {
    "collapsed": true
   },
   "source": [
    "** При сдаче домашки Вам необходимо кроме ссылки на ноутбук показать Ваш ник на kaggle, под которым Вы залили решение, которое побило Handmade baseline. **"
   ]
  },
  {
   "cell_type": "code",
   "execution_count": 132,
   "metadata": {},
   "outputs": [
    {
     "name": "stdout",
     "output_type": "stream",
     "text": [
      "(16627, 15)\n",
      "[10962  5665]\n",
      "16627\n"
     ]
    }
   ],
   "source": [
    "clf = MySGDClassifier(batch_generator, C=0.1, alpha=0.05, max_epoch=5,\n",
    "                      model_type='log_reg', batch_size=100, border=0.5)\n",
    "clf.fit(X, y_train)\n",
    "\n",
    "ss = StandardScaler()\n",
    "X_test = ss.fit_transform(X_test)\n",
    "print(X_test.shape)\n",
    "\n",
    "y = clf.predict(X_test)\n",
    "u, counts = np.unique(y, return_counts=True)\n",
    "print(counts)\n",
    "\n",
    "r = range(11691, 28318)\n",
    "print(len(r))"
   ]
  },
  {
   "cell_type": "code",
   "execution_count": 133,
   "metadata": {},
   "outputs": [],
   "source": [
    "data = {'pair_id' : range(11691, 28318), 'target': y}\n",
    "res = pd.DataFrame(data)\n",
    "res.to_csv('sec_pred.csv', index=False)"
   ]
  },
  {
   "cell_type": "markdown",
   "metadata": {},
   "source": [
    "# Фидбек (бесценно)"
   ]
  },
  {
   "cell_type": "markdown",
   "metadata": {},
   "source": [
    "* Какие аспекты обучения линейных моделей Вам показались непонятными? Какое место стоит дополнительно объяснить?"
   ]
  },
  {
   "cell_type": "markdown",
   "metadata": {},
   "source": [
    "***Ваше ответ здесь***"
   ]
  },
  {
   "cell_type": "markdown",
   "metadata": {},
   "source": [
    "* Здесь Вы можете оставить отзыв о этой домашней работе или о всем курсе.   "
   ]
  },
  {
   "cell_type": "markdown",
   "metadata": {},
   "source": [
    "*** ВАШ ОТЗЫВ ЗДЕСЬ***"
   ]
  },
  {
   "cell_type": "code",
   "execution_count": null,
   "metadata": {
    "collapsed": true
   },
   "outputs": [],
   "source": []
  },
  {
   "cell_type": "code",
   "execution_count": null,
   "metadata": {
    "collapsed": true
   },
   "outputs": [],
   "source": []
  }
 ],
 "metadata": {
  "anaconda-cloud": {},
  "kernelspec": {
   "display_name": "Python 3",
   "language": "python",
   "name": "python3"
  },
  "language_info": {
   "codemirror_mode": {
    "name": "ipython",
    "version": 3
   },
   "file_extension": ".py",
   "mimetype": "text/x-python",
   "name": "python",
   "nbconvert_exporter": "python",
   "pygments_lexer": "ipython3",
   "version": "3.8.5"
  },
  "nav_menu": {},
  "toc": {
   "colors": {
    "hover_highlight": "#DAA520",
    "navigate_num": "#000000",
    "navigate_text": "#333333",
    "running_highlight": "#FF0000",
    "selected_highlight": "#FFD700",
    "sidebar_border": "#EEEEEE",
    "wrapper_background": "#FFFFFF"
   },
   "moveMenuLeft": true,
   "nav_menu": {
    "height": "402px",
    "width": "253px"
   },
   "navigate_menu": true,
   "number_sections": false,
   "sideBar": true,
   "threshold": 4,
   "toc_cell": false,
   "toc_section_display": "block",
   "toc_window_display": true,
   "widenNotebook": false
  }
 },
 "nbformat": 4,
 "nbformat_minor": 2
}
