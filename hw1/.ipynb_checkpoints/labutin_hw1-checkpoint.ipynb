{
 "cells": [
  {
   "cell_type": "markdown",
   "metadata": {},
   "source": [
    "**Общая информация**\n",
    "\n",
    "**Срок сдачи:** 21 октября 2020, 08:30 \n",
    "\n",
    "**Штраф за опоздание:** по 1 баллу за 24 часа задержки. Через 5 дней домашнее задание сгорает.\n",
    "\n",
    "При отправлении ДЗ указывайте фамилию в названии файла\n",
    "Присылать ДЗ необходимо в виде ссылки на свой github репозиторий на почту ml1.sphere@mail.ru с указанием темы в следующем формате:\n",
    "\n",
    "[ML0220, Задание 1] Фамилия Имя.\n",
    "\n",
    "Используйте данный Ipython Notebook при оформлении домашнего задания."
   ]
  },
  {
   "cell_type": "markdown",
   "metadata": {},
   "source": [
    "\n",
    "**Штрафные баллы:**\n",
    "\n",
    "1. Отсутствие фамилии в имени скрипта (скрипт должен называться по аналогии со stroykova_hw1.ipynb) -0.5 баллов\n",
    "2. Все строчки должны быть выполнены. Нужно, чтобы output команды можно было увидеть уже в git'е. В противном случае -0.5 баллов\n"
   ]
  },
  {
   "cell_type": "code",
   "execution_count": 248,
   "metadata": {},
   "outputs": [],
   "source": [
    "import numpy as np\n",
    "import matplotlib.pyplot as plt\n",
    "\n",
    "import seaborn as sns\n",
    "from sklearn import datasets\n",
    "from sklearn.base import BaseEstimator\n",
    "from sklearn.datasets import fetch_20newsgroups\n",
    "\n",
    "from sklearn.model_selection import train_test_split\n",
    "from sklearn.neighbors import KNeighborsClassifier, KDTree\n",
    "from sklearn.metrics import accuracy_score\n",
    "\n",
    "from sklearn.feature_extraction.text import CountVectorizer, TfidfVectorizer, TfidfTransformer\n",
    "from sklearn.model_selection import KFold\n",
    "from sklearn.preprocessing import StandardScaler"
   ]
  },
  {
   "cell_type": "markdown",
   "metadata": {},
   "source": [
    "##### Задание 1 (1 балл)\n",
    "Реализовать KNN в классе MyKNeighborsClassifier (обязательное условие: точность не ниже sklearn реализации)\n",
    "Разберитесь самостоятельно, какая мера расстояния используется в KNeighborsClassifier дефолтно и реализуйте свой алгоритм именно с этой мерой. \n",
    "Для подсчета расстояний можно использовать функции [отсюда](https://docs.scipy.org/doc/scipy/reference/spatial.distance.html)"
   ]
  },
  {
   "cell_type": "code",
   "execution_count": 249,
   "metadata": {},
   "outputs": [],
   "source": [
    "from sklearn.metrics import pairwise_distances\n",
    "\n",
    "class MyKNeighborsClassifier(BaseEstimator):\n",
    "    \n",
    "    def __init__(self, n_neighbors, algorithm='brute', metric='euclidean'):\n",
    "        self.n_neighbors = n_neighbors\n",
    "        self.algorithm = algorithm\n",
    "        self.metric = metric\n",
    "        self.scaler = StandardScaler()\n",
    "    \n",
    "    def fit(self, X, y):\n",
    "        if self.algorithm == 'brute':\n",
    "            self.XTrain = np.array(X) \n",
    "            if self.metric == 'euclidean':\n",
    "                self.XTrain = self.scaler.fit_transform(self.XTrain)\n",
    "                \n",
    "        elif self.algorithm == 'kd_tree':\n",
    "            self.tree = KDTree(X)\n",
    "            \n",
    "        self.y = np.array(y)\n",
    "    \n",
    "    def predict(self, X):\n",
    "        self.XTest = X\n",
    "        def get_n_nearest_neighbors(neighbors):\n",
    "            indices = np.argpartition(neighbors, -(neighbors.shape[1] - self.n_neighbors), axis = 1) \\\n",
    "               [:, :-(neighbors.shape[1] - self.n_neighbors)]\n",
    "            \n",
    "            return indices\n",
    "        \n",
    "        if self.algorithm == 'brute': \n",
    "            if self.metric == 'euclidean':\n",
    "                self.XTest = self.scaler.transform(X)\n",
    "                \n",
    "            pwdist = pairwise_distances(self.XTest, self.XTrain, metric=self.metric)\n",
    "            nNearestNeighbors = get_n_nearest_neighbors(pwdist)\n",
    "        elif self.algorithm == 'kd_tree':\n",
    "            pwdist, nNearestNeighbors = self.tree.query(self.XTest, k=self.n_neighbors)\n",
    "        \n",
    "        predictedClasses = self.y[np.apply_along_axis(lambda r: np.bincount(r).argmax(), 1, nNearestNeighbors)]\n",
    "        \n",
    "        return predictedClasses"
   ]
  },
  {
   "cell_type": "markdown",
   "metadata": {},
   "source": [
    "**IRIS**\n",
    "\n",
    "В библиотеке scikit-learn есть несколько датасетов из коробки. Один из них [Ирисы Фишера](https://ru.wikipedia.org/wiki/%D0%98%D1%80%D0%B8%D1%81%D1%8B_%D0%A4%D0%B8%D1%88%D0%B5%D1%80%D0%B0)"
   ]
  },
  {
   "cell_type": "code",
   "execution_count": 250,
   "metadata": {},
   "outputs": [],
   "source": [
    "iris = datasets.load_iris()"
   ]
  },
  {
   "cell_type": "code",
   "execution_count": 251,
   "metadata": {},
   "outputs": [],
   "source": [
    "X_train, X_test, y_train, y_test = train_test_split(iris.data, iris.target, test_size=0.1, stratify=iris.target)"
   ]
  },
  {
   "cell_type": "code",
   "execution_count": 252,
   "metadata": {},
   "outputs": [],
   "source": [
    "clf = KNeighborsClassifier(n_neighbors=2, algorithm='brute')\n",
    "my_clf = MyKNeighborsClassifier(n_neighbors=2, algorithm='brute')"
   ]
  },
  {
   "cell_type": "code",
   "execution_count": 253,
   "metadata": {},
   "outputs": [],
   "source": [
    "clf.fit(X_train, y_train)\n",
    "my_clf.fit(X_train, y_train)"
   ]
  },
  {
   "cell_type": "code",
   "execution_count": 254,
   "metadata": {},
   "outputs": [],
   "source": [
    "sklearn_pred = clf.predict(X_test)\n",
    "my_clf_pred = my_clf.predict(X_test)\n",
    "assert abs( accuracy_score(y_test, my_clf_pred) -  accuracy_score(y_test, sklearn_pred ) )<0.005, \"Score must be similar\""
   ]
  },
  {
   "cell_type": "markdown",
   "metadata": {},
   "source": [
    "**Задание 2 (0.5 балла)**\n",
    "\n",
    "Давайте попробуем добиться скорости работы на fit, predict сравнимой со sklearn для iris. Допускается замедление не более чем в 2 раза. \n",
    "Для этого используем numpy. "
   ]
  },
  {
   "cell_type": "code",
   "execution_count": 209,
   "metadata": {},
   "outputs": [
    {
     "name": "stdout",
     "output_type": "stream",
     "text": [
      "CPU times: user 618 µs, sys: 200 µs, total: 818 µs\n",
      "Wall time: 609 µs\n"
     ]
    },
    {
     "data": {
      "text/plain": [
       "KNeighborsClassifier(algorithm='brute', n_neighbors=2)"
      ]
     },
     "execution_count": 209,
     "metadata": {},
     "output_type": "execute_result"
    }
   ],
   "source": [
    "%time clf.fit(X_train, y_train)"
   ]
  },
  {
   "cell_type": "code",
   "execution_count": 210,
   "metadata": {},
   "outputs": [
    {
     "name": "stdout",
     "output_type": "stream",
     "text": [
      "CPU times: user 944 µs, sys: 544 µs, total: 1.49 ms\n",
      "Wall time: 989 µs\n"
     ]
    }
   ],
   "source": [
    "%time my_clf.fit(X_train, y_train)"
   ]
  },
  {
   "cell_type": "code",
   "execution_count": 211,
   "metadata": {},
   "outputs": [
    {
     "name": "stdout",
     "output_type": "stream",
     "text": [
      "CPU times: user 2.14 ms, sys: 1.1 ms, total: 3.24 ms\n",
      "Wall time: 2.31 ms\n"
     ]
    },
    {
     "data": {
      "text/plain": [
       "array([0, 0, 1, 0, 0, 0, 1, 2, 2, 1, 2, 1, 1, 2, 2])"
      ]
     },
     "execution_count": 211,
     "metadata": {},
     "output_type": "execute_result"
    }
   ],
   "source": [
    "%time clf.predict(X_test)"
   ]
  },
  {
   "cell_type": "code",
   "execution_count": 212,
   "metadata": {},
   "outputs": [
    {
     "name": "stdout",
     "output_type": "stream",
     "text": [
      "CPU times: user 1.1 ms, sys: 755 µs, total: 1.85 ms\n",
      "Wall time: 1.17 ms\n"
     ]
    },
    {
     "data": {
      "text/plain": [
       "array([0, 0, 1, 0, 0, 0, 1, 2, 2, 1, 2, 1, 1, 2, 2])"
      ]
     },
     "execution_count": 212,
     "metadata": {},
     "output_type": "execute_result"
    }
   ],
   "source": [
    "%time my_clf.predict(X_test)"
   ]
  },
  {
   "cell_type": "markdown",
   "metadata": {},
   "source": [
    "# Задание 3 (1 балл)\n",
    "Добавьте algorithm='kd_tree' в реализацию KNN (использовать KDTree из sklearn.neighbors). Необходимо добиться скорости работы на fit,  predict сравнимой со sklearn для iris. Допускается замедление не более чем в 2 раза. \n",
    "Для этого используем numpy. Точность не должна уступать значению KNN из sklearn. "
   ]
  },
  {
   "cell_type": "code",
   "execution_count": 120,
   "metadata": {},
   "outputs": [],
   "source": [
    "clf = KNeighborsClassifier(n_neighbors=2, algorithm='kd_tree')\n",
    "my_clf = MyKNeighborsClassifier(n_neighbors=2, algorithm='kd_tree')"
   ]
  },
  {
   "cell_type": "code",
   "execution_count": 121,
   "metadata": {},
   "outputs": [],
   "source": [
    "X_train, X_test, y_train, y_test = train_test_split(iris.data, iris.target, test_size=0.1, stratify=iris.target)"
   ]
  },
  {
   "cell_type": "code",
   "execution_count": 122,
   "metadata": {},
   "outputs": [
    {
     "name": "stdout",
     "output_type": "stream",
     "text": [
      "CPU times: user 813 µs, sys: 432 µs, total: 1.24 ms\n",
      "Wall time: 835 µs\n"
     ]
    },
    {
     "data": {
      "text/plain": [
       "KNeighborsClassifier(algorithm='kd_tree', n_neighbors=2)"
      ]
     },
     "execution_count": 122,
     "metadata": {},
     "output_type": "execute_result"
    }
   ],
   "source": [
    "%time clf.fit(X_train, y_train)"
   ]
  },
  {
   "cell_type": "code",
   "execution_count": 123,
   "metadata": {},
   "outputs": [
    {
     "name": "stdout",
     "output_type": "stream",
     "text": [
      "CPU times: user 159 µs, sys: 13 µs, total: 172 µs\n",
      "Wall time: 165 µs\n"
     ]
    }
   ],
   "source": [
    "%time my_clf.fit(X_train, y_train)"
   ]
  },
  {
   "cell_type": "code",
   "execution_count": 124,
   "metadata": {},
   "outputs": [
    {
     "name": "stdout",
     "output_type": "stream",
     "text": [
      "CPU times: user 2.15 ms, sys: 1.12 ms, total: 3.26 ms\n",
      "Wall time: 2.24 ms\n"
     ]
    },
    {
     "data": {
      "text/plain": [
       "array([1, 0, 1, 2, 1, 0, 2, 1, 2, 0, 0, 2, 1, 2, 0])"
      ]
     },
     "execution_count": 124,
     "metadata": {},
     "output_type": "execute_result"
    }
   ],
   "source": [
    "%time clf.predict(X_test)"
   ]
  },
  {
   "cell_type": "code",
   "execution_count": 125,
   "metadata": {},
   "outputs": [
    {
     "name": "stdout",
     "output_type": "stream",
     "text": [
      "CPU times: user 621 µs, sys: 197 µs, total: 818 µs\n",
      "Wall time: 660 µs\n"
     ]
    },
    {
     "data": {
      "text/plain": [
       "array([1, 0, 1, 2, 1, 0, 2, 1, 2, 0, 0, 2, 1, 2, 0])"
      ]
     },
     "execution_count": 125,
     "metadata": {},
     "output_type": "execute_result"
    }
   ],
   "source": [
    "%time my_clf.predict(X_test)"
   ]
  },
  {
   "cell_type": "code",
   "execution_count": 126,
   "metadata": {},
   "outputs": [],
   "source": [
    "sklearn_pred = clf.predict(X_test)\n",
    "my_clf_pred = my_clf.predict(X_test)\n",
    "assert abs( accuracy_score(y_test, my_clf_pred) -  accuracy_score(y_test, sklearn_pred ) )<0.005, \"Score must be simillar\""
   ]
  },
  {
   "cell_type": "markdown",
   "metadata": {},
   "source": [
    "**Задание 4 (2.5 балла)**\n",
    "\n",
    "Рассмотрим новый датасет 20 newsgroups"
   ]
  },
  {
   "cell_type": "code",
   "execution_count": 224,
   "metadata": {},
   "outputs": [],
   "source": [
    "newsgroups = fetch_20newsgroups(subset='train',remove=['headers','footers', 'quotes'])"
   ]
  },
  {
   "cell_type": "code",
   "execution_count": 225,
   "metadata": {},
   "outputs": [],
   "source": [
    "data = newsgroups['data']\n",
    "target = newsgroups['target']"
   ]
  },
  {
   "cell_type": "markdown",
   "metadata": {},
   "source": [
    "Преобразуйте текстовые данные из data с помощью [CountVectorizer](https://scikit-learn.org/stable/modules/generated/sklearn.feature_extraction.text.CountVectorizer.html). Словарь можно ограничить по частотности."
   ]
  },
  {
   "cell_type": "code",
   "execution_count": 226,
   "metadata": {},
   "outputs": [],
   "source": [
    "vectorizer = CountVectorizer(min_df=0.01, max_df=0.15)\n",
    "matrix = vectorizer.fit_transform(data)"
   ]
  },
  {
   "cell_type": "markdown",
   "metadata": {},
   "source": [
    "*Так мы получили векторное представление наших текстов. Значит можно приступать к задаче обучения модели*"
   ]
  },
  {
   "cell_type": "markdown",
   "metadata": {},
   "source": [
    "Реализуйте разбиение выборки для кросс-валидации на 3 фолдах. Разрешено использовать sklearn.cross_validation"
   ]
  },
  {
   "cell_type": "code",
   "execution_count": 130,
   "metadata": {},
   "outputs": [],
   "source": [
    "foldsCnt = 3\n",
    "folds = KFold(n_splits=foldsCnt, shuffle=True)"
   ]
  },
  {
   "cell_type": "markdown",
   "metadata": {},
   "source": [
    "Напишите метод, позволяющий найти оптимальное количество ближайших соседей(дающее максимальную точность в среднем на валидации на 3 фолдах).\n",
    "Постройте график зависимости средней точности от количества соседей. Можно рассмотреть число соседей от 1 до 10."
   ]
  },
  {
   "cell_type": "code",
   "execution_count": 141,
   "metadata": {},
   "outputs": [
    {
     "name": "stdout",
     "output_type": "stream",
     "text": [
      "Neighbor count is 1 and average score is 0.17853977898154685\n",
      "Neighbor count is 2 and average score is 0.08838563429735159\n",
      "Neighbor count is 3 and average score is 0.11233768169372053\n",
      "Neighbor count is 4 and average score is 0.0915678140905099\n",
      "Neighbor count is 5 and average score is 0.08759060490193293\n",
      "Neighbor count is 6 and average score is 0.08113848415645099\n",
      "Neighbor count is 7 and average score is 0.07698413568826636\n",
      "Neighbor count is 8 and average score is 0.07645391299473508\n",
      "Neighbor count is 9 and average score is 0.07079745436864975\n",
      "Neighbor count is 10 and average score is 0.06849933057803131\n"
     ]
    }
   ],
   "source": [
    "def calc_scores(X, y):\n",
    "    maxNeighborCnt = 10\n",
    "    scores = np.array(range(maxNeighborCnt), dtype=float)\n",
    "    \n",
    "    for neighborCnt in range(1, maxNeighborCnt + 1):\n",
    "        my_clf = MyKNeighborsClassifier(n_neighbors=neighborCnt, algorithm='brute', metric='euclidean')\n",
    "        curScores = np.arange(foldsCnt, dtype=float)\n",
    "        \n",
    "        foldIdx = 0\n",
    "        for trainIdx, testIdx in folds.split(X):\n",
    "            my_clf.fit(X[trainIdx].toarray(), y[trainIdx])\n",
    "            predict = my_clf.predict(X[testIdx].toarray())\n",
    "            curScores[foldIdx] = accuracy_score(y_pred=predict, y_true=y[testIdx], normalize=True)\n",
    "            foldIdx += 1\n",
    "            if foldIdx == foldsCnt:\n",
    "                break\n",
    "                \n",
    "        scores[neighborCnt - 1] = np.mean(curScores)\n",
    "        print('Neighbor count is {} and average score is {}'.format(neighborCnt, scores[neighborCnt - 1]))\n",
    "        \n",
    "    return scores\n",
    "\n",
    "scores = calc_scores(matrix, target)"
   ]
  },
  {
   "cell_type": "code",
   "execution_count": 142,
   "metadata": {},
   "outputs": [
    {
     "data": {
      "text/plain": [
       "<function matplotlib.pyplot.show(close=None, block=None)>"
      ]
     },
     "execution_count": 142,
     "metadata": {},
     "output_type": "execute_result"
    },
    {
     "data": {
      "image/png": "[encoded data removed]",
      "text/plain": [
       "<Figure size 432x288 with 1 Axes>"
      ]
     },
     "metadata": {
      "needs_background": "light"
     },
     "output_type": "display_data"
    }
   ],
   "source": [
    "plt.plot(range(1, 11), scores)\n",
    "plt.show"
   ]
  },
  {
   "cell_type": "markdown",
   "metadata": {},
   "source": [
    "Как изменится качество на валидации, если:\n",
    "\n",
    "1. Используется косинусная метрика вместо евклидовой.\n",
    "2. К текстам применяется TfIdf векторизацию( sklearn.feature_extraction.text.TfidfVectorizer)\n",
    "\n",
    "Сравните модели, выберите лучшую."
   ]
  },
  {
   "cell_type": "code",
   "execution_count": 227,
   "metadata": {},
   "outputs": [],
   "source": [
    "tfidfVectorizer = TfidfVectorizer(min_df=0.001, max_df=0.15)\n",
    "matrix = tfidfVectorizer.fit_transform(data)\n",
    "# matrix = matrix.toarray()"
   ]
  },
  {
   "cell_type": "code",
   "execution_count": 145,
   "metadata": {},
   "outputs": [],
   "source": [
    "foldsCnt = 3\n",
    "folds = KFold(n_splits=foldsCnt)"
   ]
  },
  {
   "cell_type": "code",
   "execution_count": 146,
   "metadata": {},
   "outputs": [
    {
     "name": "stdout",
     "output_type": "stream",
     "text": [
      "Neighbor count is 1 and average score is 0.5819345446576115\n",
      "Neighbor count is 2 and average score is 0.5537392159228223\n",
      "Neighbor count is 3 and average score is 0.5280184003631742\n",
      "Neighbor count is 4 and average score is 0.5129041008856355\n",
      "Neighbor count is 5 and average score is 0.49929291923751795\n",
      "Neighbor count is 6 and average score is 0.49169165457695185\n",
      "Neighbor count is 7 and average score is 0.4838252317011773\n",
      "Neighbor count is 8 and average score is 0.4779916103612629\n",
      "Neighbor count is 9 and average score is 0.47074392123326997\n",
      "Neighbor count is 10 and average score is 0.46446847108296757\n"
     ]
    }
   ],
   "source": [
    "def calc_scores(X, y):\n",
    "    maxNeighborCnt = 10\n",
    "    scores = np.array(range(maxNeighborCnt), dtype=float)\n",
    "    \n",
    "    for neighborCnt in range(1, maxNeighborCnt + 1):\n",
    "        my_clf = MyKNeighborsClassifier(n_neighbors=neighborCnt, algorithm='brute', metric='cosine')\n",
    "        curScores = np.arange(foldsCnt, dtype=float)\n",
    "        \n",
    "        foldIdx = 0\n",
    "        for trainIdx, testIdx in folds.split(X):\n",
    "            my_clf.fit(X[trainIdx].toarray(), y[trainIdx])\n",
    "            predict = my_clf.predict(X[testIdx].toarray())\n",
    "            curScores[foldIdx] = accuracy_score(y_pred=predict, y_true=y[testIdx], normalize=True)\n",
    "            foldIdx += 1\n",
    "            if foldIdx == foldsCnt:\n",
    "                break\n",
    "                \n",
    "        scores[neighborCnt - 1] = np.mean(curScores)\n",
    "        print('Neighbor count is {} and average score is {}'.format(neighborCnt, scores[neighborCnt - 1]))\n",
    "        \n",
    "    return scores\n",
    "\n",
    "scores = calc_scores(matrix, target)"
   ]
  },
  {
   "cell_type": "code",
   "execution_count": 147,
   "metadata": {
    "scrolled": true
   },
   "outputs": [
    {
     "data": {
      "text/plain": [
       "<function matplotlib.pyplot.show(close=None, block=None)>"
      ]
     },
     "execution_count": 147,
     "metadata": {},
     "output_type": "execute_result"
    },
    {
     "data": {
      "image/png": "[encoded data removed]",
      "text/plain": [
       "<Figure size 432x288 with 1 Axes>"
      ]
     },
     "metadata": {
      "needs_background": "light"
     },
     "output_type": "display_data"
    }
   ],
   "source": [
    "plt.plot(range(1, 11), scores)\n",
    "plt.show \n",
    "# я понимаю, что график должен быть совсем не такой, но в чём ошибка, я так и не нашёл\n",
    "# точность у модели с метрикой cosine значительно лучше"
   ]
  },
  {
   "cell_type": "markdown",
   "metadata": {},
   "source": [
    "Загрузим  теперь test  часть нашей выборки и преобразуем её аналогично с train частью. Не забудьте, что наборы слов в train и test части могут отличаться."
   ]
  },
  {
   "cell_type": "code",
   "execution_count": 235,
   "metadata": {},
   "outputs": [],
   "source": [
    "newsgroups = fetch_20newsgroups(subset='test',remove=['headers','footers', 'quotes'])"
   ]
  },
  {
   "cell_type": "code",
   "execution_count": 236,
   "metadata": {},
   "outputs": [],
   "source": [
    "testData = newsgroups['data']\n",
    "testTarget = newsgroups['target']"
   ]
  },
  {
   "cell_type": "code",
   "execution_count": 245,
   "metadata": {},
   "outputs": [],
   "source": [
    "tfidfVectorizer = TfidfVectorizer(min_df=0.001, max_df=0.15)\n",
    "testMatrix = tfidfVectorizer.fit_transform(testData)"
   ]
  },
  {
   "cell_type": "markdown",
   "metadata": {},
   "source": [
    "Оценим точность вашей лучшей модели на test части датасета. Отличается ли оно от кросс-валидации? Попробуйте сделать выводы, почему отличается качество."
   ]
  },
  {
   "cell_type": "code",
   "execution_count": 257,
   "metadata": {},
   "outputs": [],
   "source": [
    "my_clf = MyKNeighborsClassifier(n_neighbors=(np.argmax(scores)+1), algorithm='brute', metric='cosine')\n",
    "my_clf.fit(matrix.toarray(), target)\n",
    "# ошибка компиляции здесь: не пойму, как согласовать размеры train и test частей для вычисления pairwise_distance\n",
    "predict = my_clf.predict(testMatrix.toarray())\n",
    "testScore = accuracy_score(y_true=testTarget, y_pred=predict, normalize=True)"
   ]
  }
 ],
 "metadata": {
  "kernelspec": {
   "display_name": "Python 3",
   "language": "python",
   "name": "python3"
  },
  "language_info": {
   "codemirror_mode": {
    "name": "ipython",
    "version": 3
   },
   "file_extension": ".py",
   "mimetype": "text/x-python",
   "name": "python",
   "nbconvert_exporter": "python",
   "pygments_lexer": "ipython3",
   "version": "3.8.5"
  }
 },
 "nbformat": 4,
 "nbformat_minor": 2
}
